{
 "cells": [
  {
   "cell_type": "markdown",
   "source": [
    "## Assignment 07\n",
    "\n",
    "#### Submitted By:\n",
    "1. Dhruvan Ganesh\n",
    "2. Sheikh Mastura Farzana"
   ],
   "metadata": {
    "collapsed": false
   }
  },
  {
   "cell_type": "code",
   "execution_count": 1,
   "outputs": [],
   "source": [
    "%load_ext tensorboard"
   ],
   "metadata": {
    "collapsed": false,
    "pycharm": {
     "name": "#%%\n"
    }
   }
  },
  {
   "cell_type": "markdown",
   "source": [
    "### Environment Information\n",
    "---"
   ],
   "metadata": {
    "collapsed": false
   }
  },
  {
   "cell_type": "code",
   "execution_count": 2,
   "outputs": [
    {
     "name": "stdout",
     "output_type": "stream",
     "text": [
      "Device: cuda:0\n",
      "Device Name: GeForce GTX 1660 Ti\n",
      "Set Random Seed: 42\n",
      "Data Dir: ~/.datasets\n"
     ]
    }
   ],
   "source": [
    "from pytorch_lightning import seed_everything\n",
    "from torch import device, cuda\n",
    "\n",
    "device = device(\"cuda:0\" if cuda.is_available() else \"cpu\")\n",
    "print(\"Device:\", device)\n",
    "if cuda.is_available():\n",
    "    print(\"Device Name:\", cuda.get_device_name(0))\n",
    "\n",
    "seed = 42\n",
    "seed_everything(seed)\n",
    "print(\"Set Random Seed:\", seed)\n",
    "\n",
    "data_dir = \"~/.datasets\"\n",
    "print(\"Data Dir:\", data_dir)"
   ],
   "metadata": {
    "collapsed": false,
    "pycharm": {
     "name": "#%%\n"
    }
   }
  },
  {
   "cell_type": "markdown",
   "source": [
    "# Assignment7 (21 Aug 2020)\n",
    "---\n",
    "\n",
    "- Rewrite the MNIST LSTM code using your own LSTM layer (Don't use nn.LSTM or nn.LSTMCell!)\n",
    "- Extra point to write MNIST GRU code using your own GRU layer (Don't use nn.GRU or nn.GRUCell!)\n"
   ],
   "metadata": {
    "collapsed": false,
    "pycharm": {
     "name": "#%% md\n"
    }
   }
  },
  {
   "cell_type": "markdown",
   "source": [
    "### MINST Loader\n",
    "---"
   ],
   "metadata": {
    "collapsed": false
   }
  },
  {
   "cell_type": "code",
   "execution_count": 3,
   "outputs": [],
   "source": [
    "from pytorch_lightning import LightningModule\n",
    "from torchvision import transforms, datasets\n",
    "from torch.utils.data import DataLoader\n",
    "\n",
    "\n",
    "class MINSTData(LightningModule):\n",
    "    def __init__(self, batch_size=1024):\n",
    "        super().__init__()\n",
    "        self.batch_size = batch_size\n",
    "        self.preprocess = transforms.ToTensor()\n",
    "\n",
    "    def train_dataloader(self):\n",
    "        dataset = datasets.MNIST(\n",
    "            data_dir, train=True, transform=self.preprocess, download=True\n",
    "        )\n",
    "        loader = DataLoader(\n",
    "            dataset,\n",
    "            batch_size=self.batch_size,\n",
    "            num_workers=8,\n",
    "            pin_memory=True,\n",
    "            shuffle=True,\n",
    "            drop_last=True,\n",
    "        )\n",
    "        return loader\n",
    "\n",
    "    def val_dataloader(self):\n",
    "        dataset = datasets.MNIST(\n",
    "            data_dir, train=False, transform=self.preprocess, download=True\n",
    "        )\n",
    "        loader = DataLoader(\n",
    "            dataset,\n",
    "            batch_size=self.batch_size,\n",
    "            num_workers=8,\n",
    "            pin_memory=True,\n",
    "            drop_last=True,\n",
    "        )\n",
    "        return loader"
   ],
   "metadata": {
    "collapsed": false,
    "pycharm": {
     "name": "#%%\n"
    }
   }
  },
  {
   "cell_type": "code",
   "execution_count": 4,
   "outputs": [],
   "source": [
    "import torch\n",
    "import torch.nn as nn\n",
    "\n",
    "\n",
    "class _CellParameters(nn.Module):\n",
    "    def __init__(self, n_in: int, n_hidden: int):\n",
    "        super().__init__()\n",
    "        self.w_i = nn.Parameter(torch.Tensor(n_in, n_hidden))\n",
    "        self.w_h = nn.Parameter(torch.Tensor(n_hidden, n_hidden))\n",
    "        self.b_i = nn.Parameter(torch.Tensor(n_hidden))\n",
    "        self.b_h = nn.Parameter(torch.Tensor(n_hidden))"
   ],
   "metadata": {
    "collapsed": false,
    "pycharm": {
     "name": "#%%\n"
    }
   }
  },
  {
   "cell_type": "markdown",
   "source": [
    "## <span style=\"font-variant:small-caps\">Task 1: LSTM Implementation</span>\n",
    "---"
   ],
   "metadata": {
    "collapsed": false,
    "pycharm": {
     "name": "#%% md\n"
    }
   }
  },
  {
   "cell_type": "code",
   "execution_count": 5,
   "outputs": [],
   "source": [
    "class OwnLSTMCell(nn.Module):\n",
    "    def __init__(self, n_in, n_hidden):\n",
    "        super().__init__()\n",
    "        self.input = _CellParameters(n_in, n_hidden)\n",
    "        self.forget = _CellParameters(n_in, n_hidden)\n",
    "        self.cell = _CellParameters(n_in, n_hidden)\n",
    "        self.output = _CellParameters(n_in, n_hidden)\n",
    "        self._initialize_weights()\n",
    "\n",
    "    def _initialize_weights(self):\n",
    "        for m in self.modules():\n",
    "            if isinstance(m, _CellParameters):\n",
    "                nn.init.orthogonal_(m.w_i)\n",
    "                nn.init.orthogonal_(m.w_h)\n",
    "                nn.init.zeros_(m.b_i)\n",
    "                nn.init.zeros_(m.b_h)\n",
    "\n",
    "    def forward(self, x, h, c):\n",
    "        _input = torch.sigmoid(\n",
    "            x @ self.input.w_i + self.input.b_i + h @ self.input.w_h + self.input.b_h\n",
    "        )\n",
    "        _forget = torch.sigmoid(\n",
    "            x @ self.forget.w_i\n",
    "            + self.forget.b_i\n",
    "            + h @ self.forget.w_h\n",
    "            + self.forget.b_h\n",
    "        )\n",
    "        _cell_gate = torch.tanh(\n",
    "            x @ self.cell.w_i + self.cell.b_i + h @ self.cell.w_h + self.cell.b_h\n",
    "        )\n",
    "        _output = torch.sigmoid(\n",
    "            x @ self.output.w_i\n",
    "            + self.output.b_i\n",
    "            + h @ self.output.w_h\n",
    "            + self.output.b_h\n",
    "        )\n",
    "        _cell_state = _forget * c + _input * _cell_gate\n",
    "        _hidden_state = _output * torch.tanh(_cell_state)\n",
    "        return _hidden_state, _cell_state"
   ],
   "metadata": {
    "collapsed": false,
    "pycharm": {
     "name": "#%%\n"
    }
   }
  },
  {
   "cell_type": "markdown",
   "source": [
    "## <span style=\"font-variant:small-caps\">Task 2 (Bonus): GRU Implementation</span>\n",
    "---"
   ],
   "metadata": {
    "collapsed": false
   }
  },
  {
   "cell_type": "code",
   "execution_count": 6,
   "outputs": [],
   "source": [
    "class OwnGRUCell(nn.Module):\n",
    "    def __init__(self, n_in, n_hidden):\n",
    "        super().__init__()\n",
    "        self.reset = _CellParameters(n_in, n_hidden)\n",
    "        self.update = _CellParameters(n_in, n_hidden)\n",
    "        self.new = _CellParameters(n_in, n_hidden)\n",
    "        self._initialize_weights()\n",
    "\n",
    "    def _initialize_weights(self):\n",
    "        for m in self.modules():\n",
    "            if isinstance(m, _CellParameters):\n",
    "                nn.init.orthogonal_(m.w_i)\n",
    "                nn.init.orthogonal_(m.w_h)\n",
    "                nn.init.zeros_(m.b_i)\n",
    "                nn.init.zeros_(m.b_h)\n",
    "\n",
    "    def forward(self, x, h):\n",
    "        _reset = torch.sigmoid(\n",
    "            x @ self.reset.w_i + self.reset.b_i + h @ self.reset.w_h + self.reset.b_h\n",
    "        )\n",
    "        _update = torch.sigmoid(\n",
    "            x @ self.update.w_i\n",
    "            + self.update.b_i\n",
    "            + h @ self.update.w_h\n",
    "            + self.update.b_h\n",
    "        )\n",
    "        _new = torch.tanh(\n",
    "            x @ self.new.w_i + self.new.b_i + _reset * (h @ self.new.w_h + self.new.b_h)\n",
    "        )\n",
    "        _hidden_state = (1 - _update) * _new + _update * h\n",
    "        return _hidden_state"
   ],
   "metadata": {
    "collapsed": false,
    "pycharm": {
     "name": "#%%\n"
    }
   }
  },
  {
   "cell_type": "markdown",
   "source": [
    "### Generic RNN Model\n",
    "---"
   ],
   "metadata": {
    "collapsed": false
   }
  },
  {
   "cell_type": "code",
   "execution_count": 7,
   "outputs": [],
   "source": [
    "class OwnRnn(MINSTData):\n",
    "    def __init__(self, n_in, n_hidden, n_out, n_layer, rnn_impl=OwnLSTMCell):\n",
    "        super().__init__()\n",
    "        self.n_in = n_in\n",
    "        self.n_hidden = n_hidden\n",
    "        self.n_out = n_out\n",
    "        self.n_layer = n_layer\n",
    "        self.rnn_impl = rnn_impl\n",
    "        self.rnn_layers = nn.ModuleList(\n",
    "            [rnn_impl(n_in, n_hidden) for _ in range(n_layer)]\n",
    "        )\n",
    "        self.classifier = nn.Linear(n_hidden, n_out)\n",
    "        self.loss = nn.CrossEntropyLoss()\n",
    "\n",
    "    def configure_optimizers(self):\n",
    "        optimizer = torch.optim.Adam(self.parameters(), lr=0.001, weight_decay=1e-5)\n",
    "        return optimizer\n",
    "\n",
    "    def forward(self, x):\n",
    "        x = torch.squeeze(x)\n",
    "        batch_size, n, _ = x.shape\n",
    "        h = [\n",
    "            torch.zeros(batch_size, self.n_hidden, device=device)\n",
    "            for _ in range(self.n_layer)\n",
    "        ]\n",
    "\n",
    "        if self.rnn_impl == OwnLSTMCell:\n",
    "            c = [\n",
    "                torch.zeros(batch_size, self.n_hidden, device=device)\n",
    "                for _ in range(self.n_layer)\n",
    "            ]\n",
    "\n",
    "        for x_i in range(n):\n",
    "            _x = x[:, x_i, :]\n",
    "\n",
    "            for l_i, rnn_layer in enumerate(self.rnn_layers):\n",
    "                if self.rnn_impl == OwnLSTMCell:\n",
    "                    h[l_i], c[l_i] = rnn_layer.forward(_x, h[l_i], c[l_i])\n",
    "\n",
    "                elif self.rnn_impl == OwnGRUCell:\n",
    "                    h[l_i] = rnn_layer.forward(_x, h[l_i])\n",
    "\n",
    "        out = h[-1]\n",
    "        out = self.classifier(out)\n",
    "        return out\n",
    "\n",
    "    def training_step(self, batch, batch_idx):\n",
    "        x, y = batch\n",
    "        y_hat = self(x)\n",
    "        loss = self.loss(y_hat, y)\n",
    "        labels_hat = torch.argmax(y_hat, dim=1)\n",
    "        train_acc = torch.sum(torch.eq(y, labels_hat)).item() / (len(y) * 1.0)\n",
    "        tensorboard_logs = {\"train_loss\": loss.item(), \"train_acc\": train_acc}\n",
    "        return {\"loss\": loss, \"log\": tensorboard_logs}\n",
    "\n",
    "    def validation_step(self, batch, batch_idx):\n",
    "        x, y = batch\n",
    "        y_hat = self(x)\n",
    "\n",
    "        labels_hat = torch.argmax(y_hat, dim=1)\n",
    "        val_acc = torch.sum(torch.eq(y, labels_hat)).item() / (len(y) * 1.0)\n",
    "\n",
    "        return {\"val_loss\": self.loss(y_hat, y), \"val_acc\": torch.tensor(val_acc)}\n",
    "\n",
    "    def validation_epoch_end(self, outputs):\n",
    "        avg_loss = torch.stack([x[\"val_loss\"] for x in outputs]).mean()\n",
    "        avg_acc = torch.stack([x[\"val_acc\"] for x in outputs]).mean()\n",
    "        tensorboard_logs = {\"val_loss\": avg_loss, \"val_acc\": avg_acc}\n",
    "        return {\"val_loss\": avg_loss, \"val_acc\": avg_acc, \"log\": tensorboard_logs}\n",
    "\n",
    "    @torch.no_grad()\n",
    "    def get_all_preds(self):\n",
    "        all_preds = torch.tensor([]).to(device)\n",
    "        labels = torch.tensor([], dtype=torch.int64).to(device)\n",
    "        for x, y in self.val_dataloader():\n",
    "            x, y = x.to(device), y.to(device)\n",
    "            y_hat = self.forward(x)\n",
    "            all_preds = torch.cat((all_preds, y_hat), dim=0)\n",
    "            labels = torch.cat((labels, y), dim=0)\n",
    "        pred_labels = all_preds.argmax(dim=1)\n",
    "        return pred_labels, labels"
   ],
   "metadata": {
    "collapsed": false,
    "pycharm": {
     "name": "#%%\n"
    }
   }
  },
  {
   "cell_type": "markdown",
   "source": [
    "### Experiment Runner\n",
    "---"
   ],
   "metadata": {
    "collapsed": false
   }
  },
  {
   "cell_type": "code",
   "execution_count": 8,
   "outputs": [],
   "source": [
    "from pytorch_lightning import Trainer\n",
    "from pytorch_lightning.loggers import TensorBoardLogger\n",
    "\n",
    "\n",
    "def run_experiment(model, tensorboard_graph_name=None, max_epochs=20):\n",
    "    if tensorboard_graph_name:\n",
    "        logger = TensorBoardLogger(\"lightning_logs\", name=tensorboard_graph_name)\n",
    "    else:\n",
    "        logger = False\n",
    "\n",
    "    trainer = Trainer(\n",
    "        gpus=1,\n",
    "        num_nodes=1,\n",
    "        deterministic=True,\n",
    "        max_epochs=max_epochs,\n",
    "        logger=logger,  # set False to disable tensorboard logs\n",
    "        progress_bar_refresh_rate=0,  # disable progress bar\n",
    "    )\n",
    "    trainer.fit(model)\n",
    "\n",
    "    return model"
   ],
   "metadata": {
    "collapsed": false,
    "pycharm": {
     "name": "#%%\n"
    }
   }
  },
  {
   "cell_type": "markdown",
   "source": [
    "### Train LSTM-MINST\n",
    "---"
   ],
   "metadata": {
    "collapsed": false
   }
  },
  {
   "cell_type": "code",
   "execution_count": 9,
   "outputs": [
    {
     "data": {
      "text/plain": "Launching TensorBoard..."
     },
     "metadata": {},
     "output_type": "display_data"
    }
   ],
   "source": [
    "%tensorboard --logdir lightning_logs/minst_lstm"
   ],
   "metadata": {
    "collapsed": false,
    "pycharm": {
     "name": "#%%\n"
    }
   }
  },
  {
   "cell_type": "code",
   "execution_count": 10,
   "outputs": [
    {
     "name": "stderr",
     "output_type": "stream",
     "text": [
      "GPU available: True, used: True\n",
      "No environment variable for node rank defined. Set as 0.\n",
      "CUDA_VISIBLE_DEVICES: [0]\n",
      "\n",
      "   | Name                | Type             | Params\n",
      "-----------------------------------------------------\n",
      "0  | rnn_layers          | ModuleList       | 156 K \n",
      "1  | rnn_layers.0        | OwnLSTMCell      | 52 K  \n",
      "2  | rnn_layers.0.input  | _CellParameters  | 13 K  \n",
      "3  | rnn_layers.0.forget | _CellParameters  | 13 K  \n",
      "4  | rnn_layers.0.cell   | _CellParameters  | 13 K  \n",
      "5  | rnn_layers.0.output | _CellParameters  | 13 K  \n",
      "6  | rnn_layers.1        | OwnLSTMCell      | 52 K  \n",
      "7  | rnn_layers.1.input  | _CellParameters  | 13 K  \n",
      "8  | rnn_layers.1.forget | _CellParameters  | 13 K  \n",
      "9  | rnn_layers.1.cell   | _CellParameters  | 13 K  \n",
      "10 | rnn_layers.1.output | _CellParameters  | 13 K  \n",
      "11 | rnn_layers.2        | OwnLSTMCell      | 52 K  \n",
      "12 | rnn_layers.2.input  | _CellParameters  | 13 K  \n",
      "13 | rnn_layers.2.forget | _CellParameters  | 13 K  \n",
      "14 | rnn_layers.2.cell   | _CellParameters  | 13 K  \n",
      "15 | rnn_layers.2.output | _CellParameters  | 13 K  \n",
      "16 | classifier          | Linear           | 1 K   \n",
      "17 | loss                | CrossEntropyLoss | 0     \n",
      "/home/navrudh/Apps/miniconda3/envs/cudavision/lib/python3.8/site-packages/pytorch_lightning/utilities/distributed.py:23: UserWarning: Did not find hyperparameters at model hparams. Saving checkpoint without hyperparameters.\n",
      "  warnings.warn(*args, **kwargs)\n"
     ]
    }
   ],
   "source": [
    "lstm_model = run_experiment(\n",
    "    OwnRnn(n_in=28, n_hidden=100, n_out=10, n_layer=3, rnn_impl=OwnLSTMCell),\n",
    "    tensorboard_graph_name=\"minst_lstm\",\n",
    ")"
   ],
   "metadata": {
    "collapsed": false,
    "pycharm": {
     "name": "#%%\n"
    }
   }
  },
  {
   "cell_type": "code",
   "execution_count": 11,
   "outputs": [
    {
     "name": "stdout",
     "output_type": "stream",
     "text": [
      "\n",
      "==================\n",
      "Validation Report:\n",
      "==================\n",
      "              precision    recall  f1-score   support\n",
      "\n",
      "           0       0.98      0.99      0.98       897\n",
      "           1       0.98      0.99      0.99      1041\n",
      "           2       0.97      0.96      0.96       958\n",
      "           3       0.96      0.97      0.96       929\n",
      "           4       0.97      0.96      0.97       910\n",
      "           5       0.98      0.96      0.97       823\n",
      "           6       0.98      0.98      0.98       881\n",
      "           7       0.98      0.97      0.97       939\n",
      "           8       0.97      0.96      0.96       900\n",
      "           9       0.95      0.97      0.96       938\n",
      "\n",
      "    accuracy                           0.97      9216\n",
      "   macro avg       0.97      0.97      0.97      9216\n",
      "weighted avg       0.97      0.97      0.97      9216\n",
      "\n"
     ]
    }
   ],
   "source": [
    "from sklearn.metrics import classification_report\n",
    "\n",
    "y_pred, y_true = lstm_model.get_all_preds()\n",
    "y_pred, y_true = y_pred.cpu().numpy(), y_true.cpu().numpy()\n",
    "\n",
    "\n",
    "print(\"\\n==================\\nValidation Report:\\n==================\")\n",
    "print(classification_report(y_true, y_pred))"
   ],
   "metadata": {
    "collapsed": false,
    "pycharm": {
     "name": "#%%\n"
    }
   }
  },
  {
   "cell_type": "markdown",
   "source": [
    "### Train GRU-MINST\n",
    "---"
   ],
   "metadata": {
    "collapsed": false
   }
  },
  {
   "cell_type": "code",
   "execution_count": 12,
   "outputs": [
    {
     "data": {
      "text/plain": "Launching TensorBoard..."
     },
     "metadata": {},
     "output_type": "display_data"
    }
   ],
   "source": [
    "%tensorboard --logdir lightning_logs/minst_gru"
   ],
   "metadata": {
    "collapsed": false,
    "pycharm": {
     "name": "#%%\n"
    }
   }
  },
  {
   "cell_type": "code",
   "execution_count": 13,
   "outputs": [
    {
     "name": "stderr",
     "output_type": "stream",
     "text": [
      "GPU available: True, used: True\n",
      "No environment variable for node rank defined. Set as 0.\n",
      "CUDA_VISIBLE_DEVICES: [0]\n",
      "\n",
      "   | Name                | Type             | Params\n",
      "-----------------------------------------------------\n",
      "0  | rnn_layers          | ModuleList       | 117 K \n",
      "1  | rnn_layers.0        | OwnGRUCell       | 39 K  \n",
      "2  | rnn_layers.0.reset  | _CellParameters  | 13 K  \n",
      "3  | rnn_layers.0.update | _CellParameters  | 13 K  \n",
      "4  | rnn_layers.0.new    | _CellParameters  | 13 K  \n",
      "5  | rnn_layers.1        | OwnGRUCell       | 39 K  \n",
      "6  | rnn_layers.1.reset  | _CellParameters  | 13 K  \n",
      "7  | rnn_layers.1.update | _CellParameters  | 13 K  \n",
      "8  | rnn_layers.1.new    | _CellParameters  | 13 K  \n",
      "9  | rnn_layers.2        | OwnGRUCell       | 39 K  \n",
      "10 | rnn_layers.2.reset  | _CellParameters  | 13 K  \n",
      "11 | rnn_layers.2.update | _CellParameters  | 13 K  \n",
      "12 | rnn_layers.2.new    | _CellParameters  | 13 K  \n",
      "13 | classifier          | Linear           | 1 K   \n",
      "14 | loss                | CrossEntropyLoss | 0     \n",
      "/home/navrudh/Apps/miniconda3/envs/cudavision/lib/python3.8/site-packages/pytorch_lightning/utilities/distributed.py:23: UserWarning: Did not find hyperparameters at model hparams. Saving checkpoint without hyperparameters.\n",
      "  warnings.warn(*args, **kwargs)\n"
     ]
    }
   ],
   "source": [
    "gru_model = run_experiment(\n",
    "    OwnRnn(n_in=28, n_hidden=100, n_out=10, n_layer=3, rnn_impl=OwnGRUCell),\n",
    "    tensorboard_graph_name=\"minst_gru\",\n",
    ")"
   ],
   "metadata": {
    "collapsed": false,
    "pycharm": {
     "name": "#%%\n"
    }
   }
  },
  {
   "cell_type": "code",
   "execution_count": 14,
   "outputs": [
    {
     "name": "stdout",
     "output_type": "stream",
     "text": [
      "\n",
      "==================\n",
      "Validation Report:\n",
      "==================\n",
      "              precision    recall  f1-score   support\n",
      "\n",
      "           0       0.98      0.98      0.98       897\n",
      "           1       0.99      0.98      0.99      1041\n",
      "           2       0.96      0.97      0.97       958\n",
      "           3       0.97      0.97      0.97       929\n",
      "           4       0.97      0.95      0.96       910\n",
      "           5       0.96      0.96      0.96       823\n",
      "           6       0.98      0.97      0.97       881\n",
      "           7       0.98      0.96      0.97       939\n",
      "           8       0.94      0.97      0.95       900\n",
      "           9       0.95      0.96      0.95       938\n",
      "\n",
      "    accuracy                           0.97      9216\n",
      "   macro avg       0.97      0.97      0.97      9216\n",
      "weighted avg       0.97      0.97      0.97      9216\n",
      "\n"
     ]
    }
   ],
   "source": [
    "from sklearn.metrics import classification_report\n",
    "\n",
    "y_pred, y_true = gru_model.get_all_preds()\n",
    "y_pred, y_true = y_pred.cpu().numpy(), y_true.cpu().numpy()\n",
    "\n",
    "\n",
    "print(\"\\n==================\\nValidation Report:\\n==================\")\n",
    "print(classification_report(y_true, y_pred))"
   ],
   "metadata": {
    "collapsed": false,
    "pycharm": {
     "name": "#%%\n"
    }
   }
  }
 ],
 "metadata": {
  "kernelspec": {
   "display_name": "Python 3",
   "language": "python",
   "name": "python3"
  },
  "language_info": {
   "codemirror_mode": {
    "name": "ipython",
    "version": 2
   },
   "file_extension": ".py",
   "mimetype": "text/x-python",
   "name": "python",
   "nbconvert_exporter": "python",
   "pygments_lexer": "ipython2",
   "version": "2.7.6"
  }
 },
 "nbformat": 4,
 "nbformat_minor": 0
}