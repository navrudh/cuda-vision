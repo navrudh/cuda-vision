{
 "cells": [
  {
   "cell_type": "markdown",
   "metadata": {
    "pycharm": {
     "name": "#%% md\n"
    }
   },
   "source": [
    "## Assignment 01 - Multiclass Logistic Regression Classifier using Numpy\n",
    "\n",
    "#### Team\n",
    "\n",
    "1. Sheikh Mastura Farzana\n",
    "2. Dhruvan Ganesh\n"
   ]
  },
  {
   "cell_type": "code",
   "execution_count": 1,
   "metadata": {},
   "outputs": [],
   "source": [
    "import random\n",
    "import struct\n",
    "\n",
    "import matplotlib.pyplot as plt\n",
    "import numpy as np\n",
    "from sklearn.metrics import classification_report\n",
    "from sklearn.utils import shuffle\n",
    "\n",
    "random.seed(1)\n",
    "np.random.seed(1)\n"
   ]
  },
  {
   "cell_type": "markdown",
   "metadata": {},
   "source": [
    "### 1. Utilities"
   ]
  },
  {
   "cell_type": "code",
   "execution_count": 2,
   "metadata": {},
   "outputs": [],
   "source": [
    "def read_idx(filename):\n",
    "    with open(filename, \"rb\") as f:\n",
    "        zero, data_type, dims = struct.unpack(\">HBB\", f.read(4))\n",
    "        shape = tuple(struct.unpack(\">I\", f.read(4))[0] for d in range(dims))\n",
    "        return np.frombuffer(f.read(), dtype=np.uint8).reshape(shape)\n",
    "\n",
    "\n",
    "def assertShape(actual, expected):\n",
    "    actual = np.shape(actual)\n",
    "    expected = np.shape(expected)\n",
    "    assert actual == expected, f\"Shape Mismatch: expected {actual} to equal {expected}\"\n",
    "\n",
    "\n",
    "def plotLines(arr: [], arr2: [], title=\"\", labels=[]):\n",
    "    plt.plot(np.squeeze([range(1, len(arr) + 1)]), np.squeeze(arr), label=labels[0])\n",
    "    plt.plot(np.squeeze([range(1, len(arr2) + 1)]), np.squeeze(arr2), label=labels[1])\n",
    "    plt.title(title)\n",
    "    plt.legend()\n",
    "    plt.show()"
   ]
  },
  {
   "cell_type": "markdown",
   "metadata": {
    "pycharm": {
     "name": "#%% md\n"
    }
   },
   "source": [
    "### 2. Network Components"
   ]
  },
  {
   "cell_type": "code",
   "execution_count": 3,
   "metadata": {
    "pycharm": {
     "name": "#%%\n"
    }
   },
   "outputs": [],
   "source": [
    "# Layer Base Class\n",
    "class Layer(object):\n",
    "    \"\"\"\n",
    "    Base class for Network Layers\n",
    "    \"\"\"\n",
    "    def __init__(self):\n",
    "        self._top_layer = False\n",
    "\n",
    "    def build(self, input_shape, lr, batch_size):\n",
    "        self._learning_rate = lr\n",
    "        self._batch_size = batch_size\n",
    "        return input_shape\n",
    "\n",
    "    def forward(self, X):\n",
    "        raise Exception(\"WARNING: Invoked unimplemented base class method!\")\n",
    "\n",
    "    def backward(self, grad, y):\n",
    "        raise Exception(\"WARNING: Invoked unimplemented base class method!\")\n",
    "\n",
    "\n",
    "class Dense(Layer):\n",
    "    def __init__(self, neurons: int):\n",
    "        super().__init__()\n",
    "        self._hidden = neurons\n",
    "\n",
    "    def __str__(self):\n",
    "        return f\"\"\"Dense ( Neurons: {self._hidden} )\"\"\"\n",
    "\n",
    "    def build(self, input_shape, lr, batch_size):\n",
    "        super().build(input_shape, lr, batch_size)\n",
    "\n",
    "        self._weights = np.random.normal(size=(input_shape[1], self._hidden))\n",
    "        self._bias = np.zeros(shape=(1, self._hidden))\n",
    "\n",
    "        # expected output shape\n",
    "        return np.shape(self.forward(np.zeros(shape=input_shape)))\n",
    "\n",
    "    def forward(self, X):\n",
    "        self._X = X\n",
    "        return np.dot(self._X, self._weights) + self._bias\n",
    "\n",
    "    def backward(self, grad, y):\n",
    "        self._dw = (1 / self._batch_size) * np.dot(self._X.T, grad)\n",
    "        self._db = (1 / self._batch_size) * np.sum(grad, axis=0, keepdims=True)\n",
    "\n",
    "        if not self._top_layer:\n",
    "            self._dX = np.dot(grad, self._weights.T)\n",
    "\n",
    "        assertShape(self._dw, self._weights)\n",
    "        assertShape(self._db, self._bias)\n",
    "\n",
    "        # gradient update\n",
    "        self._weights = self._weights - self._learning_rate * self._dw\n",
    "        self._bias = self._bias - self._learning_rate * self._db\n",
    "\n",
    "        if not self._top_layer:\n",
    "            return self._dX\n",
    "\n",
    "\n",
    "class ReLU(Layer):\n",
    "    def forward(self, X):\n",
    "        self.X = X\n",
    "        X = np.copy(self.X)\n",
    "\n",
    "        X[X < 0] = 0\n",
    "        return X\n",
    "\n",
    "    def backward(self, grad, y):\n",
    "        return grad * (self.X >= 0)\n",
    "\n",
    "    def __str__(self):\n",
    "        return \"ReLU()\"\n",
    "\n",
    "\n",
    "class Softmax(Layer):\n",
    "    def forward(self, X):\n",
    "        self.X = X\n",
    "        _exp = np.exp(X - np.max(X, axis=1, keepdims=True))\n",
    "        return _exp / _exp.sum(axis=1, keepdims=True)\n",
    "\n",
    "    def backward(self, grad, y):\n",
    "        _grad = np.copy(grad)\n",
    "        _grad[range(self._batch_size), y.argmax(axis=1)] -= (1.0 / self._batch_size)\n",
    "        return _grad\n",
    "\n",
    "    def __str__(self):\n",
    "        return \"Softmax()\"\n",
    "\n",
    "\n",
    "class Loss(object):\n",
    "    \"\"\"\n",
    "    Base class for Loss functions\n",
    "    \"\"\"\n",
    "\n",
    "    def calculate(self, y_actual, y_predicted):\n",
    "        raise Exception(\"WARNING: Invoked unimplemented base class method!\")\n",
    "\n",
    "    def gradient(self, y_actual, y_predicted):\n",
    "        raise Exception(\"WARNING: Invoked unimplemented base class method!\")\n",
    "\n",
    "\n",
    "class MeanSquareErrorLoss(Loss):\n",
    "    def __str__(self):\n",
    "        return f\"\"\"MeanSquareErrorLoss()\"\"\"\n",
    "\n",
    "    def calculate(self, y_actual, y_predicted):\n",
    "        return np.mean((y_predicted - y_actual) ** 2, axis=1)\n",
    "\n",
    "    def gradient(self, y_actual, y_predicted):\n",
    "        return 2 * (y_predicted - y_actual)\n",
    "\n",
    "\n",
    "class Network:\n",
    "    \"\"\"\n",
    "    The Neural Network (or Model) class,\n",
    "    which make uses of Layers, Loss functions\n",
    "    \"\"\"\n",
    "\n",
    "    def __init__(self, layers: [Layer], loss_function: Loss):\n",
    "        self._loss = loss_function\n",
    "        self._layers = layers\n",
    "        self._built = False\n",
    "\n",
    "    def __str__(self):\n",
    "        layers = \"\\n\".join([str(layer) for layer in self._layers])\n",
    "        return f\"\"\"Network(\\nLayers: \\n{layers}, \\nLossFunction: {self._loss})\\n\"\"\"\n",
    "\n",
    "    def forward(self, batchX):\n",
    "        feed_forward = batchX\n",
    "        for layer in self._layers:\n",
    "            feed_forward = layer.forward(feed_forward)\n",
    "        return feed_forward\n",
    "\n",
    "    def backward(self, batchY, feed_forward):\n",
    "        grads = self._loss.gradient(batchY, feed_forward)\n",
    "        _backpass_layers = reversed(self._layers)\n",
    "\n",
    "        # # skipping last layer\n",
    "        # next(_backpass_layers)\n",
    "\n",
    "        for layer in _backpass_layers:\n",
    "            grads = layer.backward(grads, batchY)\n",
    "\n",
    "    def fit(self, X, y, batch_size=500, epochs=100, lr=0.003, testX=None, testY=None):\n",
    "        self._X = X\n",
    "        self._y = y\n",
    "        self._batch_size = batch_size\n",
    "        self.train_accuracy = []\n",
    "        self.train_loss = []\n",
    "        self.test_accuracy = []\n",
    "        self.test_loss = []\n",
    "\n",
    "        if not self._built:\n",
    "            input_shape = np.shape(self._X)\n",
    "            for layer in self._layers:\n",
    "                input_shape = layer.build(\n",
    "                    input_shape=input_shape, lr=lr, batch_size=batch_size\n",
    "                )\n",
    "            self._built = True\n",
    "\n",
    "        # Print Network Configuration\n",
    "        print(str(self))\n",
    "\n",
    "        for epoch in range(1, epochs + 1):\n",
    "            for batch_start in range(0, len(self._X), self._batch_size):\n",
    "                batch_end = batch_start + batch_size\n",
    "\n",
    "                batchX = self._X[batch_start:batch_end]\n",
    "                batchY = self._y[batch_start:batch_end]\n",
    "\n",
    "                feed_forward = self.forward(batchX)\n",
    "                self.backward(batchY, feed_forward)\n",
    "\n",
    "            self.train_accuracy.append(self.accuracy(X, y))\n",
    "            self.train_loss.append(self.mse_loss(X, y))\n",
    "\n",
    "            if testX is not None and testY is not None:\n",
    "                self.test_accuracy.append(self.accuracy(testX, testY))\n",
    "                self.test_loss.append(self.mse_loss(testX, testY))\n",
    "\n",
    "            if epoch % (epochs // 10) == 0:\n",
    "                print(f\"Accuracy at epoch {epoch}:\\t{self.train_accuracy[-1]}\")\n",
    "                print(f\"MSE Loss at epoch {epoch}:\\t{self.train_loss[-1]}\")\n",
    "\n",
    "            self._X, self._y = shuffle(self._X, self._y)\n",
    "\n",
    "    def predict(self, X, softmax_scores=False):\n",
    "        feed_forward = self.forward(X)\n",
    "\n",
    "        if softmax_scores:\n",
    "            return feed_forward\n",
    "\n",
    "        return np.argmax(feed_forward, axis=1)\n",
    "\n",
    "    def accuracy(self, X, y):\n",
    "        predicted_label = self.predict(X)\n",
    "        actual_label = np.argmax(y, axis=1)\n",
    "        return np.mean(1 * (predicted_label == actual_label))\n",
    "\n",
    "    def mse_loss(self, X, y):\n",
    "        predicted = self.predict(X, softmax_scores=True)\n",
    "        return np.sum(self._loss.calculate(y, predicted))\n"
   ]
  },
  {
   "cell_type": "markdown",
   "metadata": {},
   "source": [
    "### 3.1 Load and Preprocess Data"
   ]
  },
  {
   "cell_type": "code",
   "execution_count": 4,
   "metadata": {},
   "outputs": [
    {
     "name": "stdout",
     "output_type": "stream",
     "text": [
      "Train [X, Y]:  (60000, 784) (60000, 10)\n",
      "Test  [X, Y]:  (10000, 784) (10000, 10)\n"
     ]
    }
   ],
   "source": [
    "testX = \"data/MINST/t10k-images-idx3-ubyte\"\n",
    "testY = \"data/MINST/t10k-labels-idx1-ubyte\"\n",
    "trainX = \"data/MINST/train-images-idx3-ubyte\"\n",
    "trainY = \"data/MINST/train-labels-idx1-ubyte\"\n",
    "\n",
    "trainX = read_idx(trainX)\n",
    "trainY = read_idx(trainY)\n",
    "testX = read_idx(testX)\n",
    "testY = read_idx(testY)\n",
    "\n",
    "\n",
    "def normalize_images(X):\n",
    "    X = X.reshape(X.shape[0], -1)\n",
    "    X = X.astype(np.float)\n",
    "    X /= 255.0\n",
    "    return X\n",
    "\n",
    "\n",
    "def one_hot_encode(X, catagories):\n",
    "    return np.eye(catagories)[X]\n",
    "\n",
    "\n",
    "trainX = normalize_images(trainX)\n",
    "testX = normalize_images(testX)\n",
    "\n",
    "trainY = one_hot_encode(trainY, 10)\n",
    "testY = one_hot_encode(testY, 10)\n",
    "\n",
    "print(\"Train [X, Y]: \", trainX.shape, trainY.shape)\n",
    "print(\"Test  [X, Y]: \", testX.shape, testY.shape)"
   ]
  },
  {
   "cell_type": "markdown",
   "metadata": {},
   "source": [
    "### 3.1 Network with No Hidden Layer"
   ]
  },
  {
   "cell_type": "code",
   "execution_count": 5,
   "metadata": {
    "pycharm": {
     "name": "#%%\n"
    }
   },
   "outputs": [],
   "source": [
    "network_no_hidden = Network(\n",
    "    layers=[Dense(10), Softmax()],\n",
    "    loss_function=MeanSquareErrorLoss(),\n",
    ")"
   ]
  },
  {
   "cell_type": "code",
   "execution_count": 6,
   "metadata": {
    "pycharm": {
     "name": "#%%\n"
    }
   },
   "outputs": [
    {
     "name": "stdout",
     "output_type": "stream",
     "text": [
      "Network(\n",
      "Layers: \n",
      "Dense ( Neurons: 10 )\n",
      "Softmax(), \n",
      "LossFunction: MeanSquareErrorLoss())\n",
      "\n",
      "Accuracy at epoch 20:\t0.49378333333333335\n",
      "MSE Loss at epoch 20:\t4939.356960786188\n",
      "Accuracy at epoch 40:\t0.6498166666666667\n",
      "MSE Loss at epoch 40:\t3387.524579631566\n",
      "Accuracy at epoch 60:\t0.7139333333333333\n",
      "MSE Loss at epoch 60:\t2761.093471488397\n",
      "Accuracy at epoch 80:\t0.7495\n",
      "MSE Loss at epoch 80:\t2415.399003986201\n",
      "Accuracy at epoch 100:\t0.77285\n",
      "MSE Loss at epoch 100:\t2193.049744678089\n",
      "Accuracy at epoch 120:\t0.78845\n",
      "MSE Loss at epoch 120:\t2036.0888560216595\n",
      "Accuracy at epoch 140:\t0.80035\n",
      "MSE Loss at epoch 140:\t1917.6353119983119\n",
      "Accuracy at epoch 160:\t0.8095166666666667\n",
      "MSE Loss at epoch 160:\t1824.2483503966444\n",
      "Accuracy at epoch 180:\t0.8174333333333333\n",
      "MSE Loss at epoch 180:\t1748.3257242615673\n",
      "Accuracy at epoch 200:\t0.824\n",
      "MSE Loss at epoch 200:\t1685.3964719437233\n"
     ]
    }
   ],
   "source": [
    "network_no_hidden.fit(X=trainX, y=trainY, testX=testX, testY=testY, epochs=200)"
   ]
  },
  {
   "cell_type": "code",
   "execution_count": 7,
   "metadata": {
    "pycharm": {
     "name": "#%%\n"
    }
   },
   "outputs": [
    {
     "data": {
      "text/plain": "<Figure size 432x288 with 1 Axes>",
      "image/png": "[encoded data removed]"
     },
     "metadata": {
      "needs_background": "light"
     },
     "output_type": "display_data"
    }
   ],
   "source": [
    "# plotLines(network.train_loss, network.test_loss, title=\"Loss\", labels=[\"train\", \"test\"])\n",
    "plotLines(\n",
    "    network_no_hidden.train_accuracy,\n",
    "    network_no_hidden.test_accuracy,\n",
    "    title=\"Accuracy\",\n",
    "    labels=[\"train\", \"test\"],\n",
    ")"
   ]
  },
  {
   "cell_type": "code",
   "execution_count": 8,
   "metadata": {
    "pycharm": {
     "name": "#%%\n"
    }
   },
   "outputs": [
    {
     "name": "stdout",
     "output_type": "stream",
     "text": [
      "TRAIN: F1 Score\n",
      "              precision    recall  f1-score   support\n",
      "\n",
      "           0       0.91      0.89      0.90      5999\n",
      "           1       0.93      0.92      0.93      6851\n",
      "           2       0.81      0.82      0.81      5887\n",
      "           3       0.80      0.80      0.80      6103\n",
      "           4       0.83      0.84      0.84      5829\n",
      "           5       0.69      0.73      0.71      5165\n",
      "           6       0.89      0.89      0.89      5949\n",
      "           7       0.83      0.85      0.84      6167\n",
      "           8       0.74      0.72      0.73      6054\n",
      "           9       0.77      0.77      0.77      5996\n",
      "\n",
      "    accuracy                           0.82     60000\n",
      "   macro avg       0.82      0.82      0.82     60000\n",
      "weighted avg       0.82      0.82      0.82     60000\n",
      "\n"
     ]
    }
   ],
   "source": [
    "predictYTrain = network_no_hidden.predict(trainX)\n",
    "actualYTrain = np.argmax(trainY, axis=1)\n",
    "print(\"TRAIN: F1 Score\")\n",
    "print(classification_report(predictYTrain, actualYTrain))"
   ]
  },
  {
   "cell_type": "code",
   "execution_count": 9,
   "metadata": {
    "pycharm": {
     "name": "#%%\n"
    }
   },
   "outputs": [
    {
     "name": "stdout",
     "output_type": "stream",
     "text": [
      "TEST: F1 Score\n",
      "              precision    recall  f1-score   support\n",
      "\n",
      "           0       0.92      0.89      0.90      1010\n",
      "           1       0.93      0.93      0.93      1129\n",
      "           2       0.82      0.84      0.83      1003\n",
      "           3       0.82      0.79      0.81      1053\n",
      "           4       0.85      0.83      0.84      1008\n",
      "           5       0.70      0.74      0.72       851\n",
      "           6       0.89      0.88      0.88       970\n",
      "           7       0.82      0.86      0.84       981\n",
      "           8       0.73      0.73      0.73       980\n",
      "           9       0.79      0.78      0.78      1015\n",
      "\n",
      "    accuracy                           0.83     10000\n",
      "   macro avg       0.83      0.83      0.83     10000\n",
      "weighted avg       0.83      0.83      0.83     10000\n",
      "\n"
     ]
    }
   ],
   "source": [
    "predictYTest = network_no_hidden.predict(testX)\n",
    "actualYTest = np.argmax(testY, axis=1)\n",
    "print(\"TEST: F1 Score\")\n",
    "print(classification_report(predictYTest, actualYTest))"
   ]
  },
  {
   "cell_type": "markdown",
   "metadata": {},
   "source": [
    "### 3.3 Network with One Hidden Layer"
   ]
  },
  {
   "cell_type": "code",
   "execution_count": 16,
   "metadata": {},
   "outputs": [],
   "source": [
    "network_one_hidden = Network(\n",
    "    layers=[Dense(64), ReLU(), Dense(10), Softmax()],\n",
    "    loss_function=MeanSquareErrorLoss(),\n",
    ")"
   ]
  },
  {
   "cell_type": "code",
   "execution_count": 17,
   "metadata": {},
   "outputs": [
    {
     "name": "stdout",
     "output_type": "stream",
     "text": [
      "Network(\n",
      "Layers: \n",
      "Dense ( Neurons: 64 )\n",
      "ReLU()\n",
      "Dense ( Neurons: 10 )\n",
      "Softmax(), \n",
      "LossFunction: MeanSquareErrorLoss())\n",
      "\n",
      "Accuracy at epoch 20:\t0.7905\n",
      "MSE Loss at epoch 20:\t2276.742913323308\n",
      "Accuracy at epoch 40:\t0.8256\n",
      "MSE Loss at epoch 40:\t1825.7853532466584\n",
      "Accuracy at epoch 60:\t0.8388166666666667\n",
      "MSE Loss at epoch 60:\t1617.6135977712936\n",
      "Accuracy at epoch 80:\t0.8469833333333333\n",
      "MSE Loss at epoch 80:\t1484.5121301753968\n",
      "Accuracy at epoch 100:\t0.8532666666666666\n",
      "MSE Loss at epoch 100:\t1388.7290454908132\n",
      "Accuracy at epoch 120:\t0.8595166666666667\n",
      "MSE Loss at epoch 120:\t1307.1804670094518\n",
      "Accuracy at epoch 140:\t0.8635166666666667\n",
      "MSE Loss at epoch 140:\t1246.9499048106388\n",
      "Accuracy at epoch 160:\t0.8679\n",
      "MSE Loss at epoch 160:\t1199.6601123696742\n",
      "Accuracy at epoch 180:\t0.8716166666666667\n",
      "MSE Loss at epoch 180:\t1158.961977819669\n",
      "Accuracy at epoch 200:\t0.87445\n",
      "MSE Loss at epoch 200:\t1127.5665988072244\n"
     ]
    }
   ],
   "source": [
    "network_one_hidden.fit(X=trainX, y=trainY, testX=testX, testY=testY, epochs=200)"
   ]
  },
  {
   "cell_type": "code",
   "execution_count": 18,
   "metadata": {},
   "outputs": [
    {
     "data": {
      "text/plain": "<Figure size 432x288 with 1 Axes>",
      "image/png": "[encoded data removed]"
     },
     "metadata": {
      "needs_background": "light"
     },
     "output_type": "display_data"
    }
   ],
   "source": [
    "# plotLines(network.train_loss, network.test_loss, title=\"Loss\", labels=[\"train\", \"test\"])\n",
    "plotLines(\n",
    "    network_one_hidden.train_accuracy,\n",
    "    network_one_hidden.test_accuracy,\n",
    "    title=\"Accuracy\",\n",
    "    labels=[\"train\", \"test\"],\n",
    ")"
   ]
  },
  {
   "cell_type": "code",
   "execution_count": 19,
   "metadata": {
    "pycharm": {
     "name": "#%%\n"
    }
   },
   "outputs": [
    {
     "name": "stdout",
     "output_type": "stream",
     "text": [
      "TRAIN: F1 Score\n",
      "              precision    recall  f1-score   support\n",
      "\n",
      "           0       0.94      0.94      0.94      5903\n",
      "           1       0.97      0.95      0.96      6848\n",
      "           2       0.86      0.87      0.87      5878\n",
      "           3       0.83      0.82      0.83      6141\n",
      "           4       0.89      0.86      0.87      6002\n",
      "           5       0.81      0.79      0.80      5559\n",
      "           6       0.91      0.92      0.91      5915\n",
      "           7       0.91      0.90      0.90      6315\n",
      "           8       0.79      0.82      0.80      5582\n",
      "           9       0.83      0.84      0.83      5857\n",
      "\n",
      "    accuracy                           0.87     60000\n",
      "   macro avg       0.87      0.87      0.87     60000\n",
      "weighted avg       0.87      0.87      0.87     60000\n",
      "\n"
     ]
    }
   ],
   "source": [
    "predictYTrain = network_one_hidden.predict(trainX)\n",
    "actualYTrain = np.argmax(trainY, axis=1)\n",
    "print(\"TRAIN: F1 Score\")\n",
    "print(classification_report(predictYTrain, actualYTrain))"
   ]
  },
  {
   "cell_type": "code",
   "execution_count": 20,
   "metadata": {
    "pycharm": {
     "name": "#%%\n"
    }
   },
   "outputs": [
    {
     "name": "stdout",
     "output_type": "stream",
     "text": [
      "TEST: F1 Score\n",
      "              precision    recall  f1-score   support\n",
      "\n",
      "           0       0.93      0.92      0.93       992\n",
      "           1       0.97      0.96      0.97      1151\n",
      "           2       0.85      0.90      0.87       981\n",
      "           3       0.86      0.83      0.84      1044\n",
      "           4       0.89      0.86      0.88      1014\n",
      "           5       0.81      0.79      0.80       914\n",
      "           6       0.91      0.91      0.91       955\n",
      "           7       0.88      0.91      0.89       995\n",
      "           8       0.78      0.81      0.79       934\n",
      "           9       0.85      0.84      0.85      1020\n",
      "\n",
      "    accuracy                           0.88     10000\n",
      "   macro avg       0.87      0.87      0.87     10000\n",
      "weighted avg       0.88      0.88      0.88     10000\n",
      "\n"
     ]
    }
   ],
   "source": [
    "predictYTest = network_one_hidden.predict(testX)\n",
    "actualYTest = np.argmax(testY, axis=1)\n",
    "print(\"TEST: F1 Score\")\n",
    "print(classification_report(predictYTest, actualYTest))"
   ]
  },
  {
   "cell_type": "markdown",
   "metadata": {},
   "source": [
    "### 3.4 Comparing Both Networks"
   ]
  },
  {
   "cell_type": "code",
   "execution_count": 21,
   "metadata": {
    "pycharm": {
     "name": "#%%\n"
    }
   },
   "outputs": [
    {
     "data": {
      "text/plain": "<Figure size 432x288 with 1 Axes>",
      "image/png": "[encoded data removed]"
     },
     "metadata": {
      "needs_background": "light"
     },
     "output_type": "display_data"
    }
   ],
   "source": [
    "plotLines(\n",
    "    network_no_hidden.train_accuracy,\n",
    "    network_one_hidden.train_accuracy,\n",
    "    title=\"Training Accuracy\",\n",
    "    labels=[\"no-hidden\", \"one-hidden-100-neurons\"],\n",
    ")"
   ]
  },
  {
   "cell_type": "code",
   "execution_count": 15,
   "metadata": {
    "pycharm": {
     "name": "#%%\n"
    }
   },
   "outputs": [],
   "source": []
  }
 ],
 "metadata": {
  "kernelspec": {
   "display_name": "Python 3",
   "language": "python",
   "name": "python3"
  },
  "language_info": {
   "codemirror_mode": {
    "name": "ipython",
    "version": 3
   },
   "file_extension": ".py",
   "mimetype": "text/x-python",
   "name": "python",
   "nbconvert_exporter": "python",
   "pygments_lexer": "ipython3",
   "version": "3.8.3"
  }
 },
 "nbformat": 4,
 "nbformat_minor": 2
}