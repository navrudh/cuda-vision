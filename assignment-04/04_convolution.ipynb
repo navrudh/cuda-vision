{
 "cells": [
  {
   "cell_type": "markdown",
   "metadata": {},
   "source": [
    "## Assignment 04\n",
    "\n",
    "#### Submitted By:\n",
    "1. Dhruvan Ganesh\n",
    "2. Sheikh Mastura Farzana"
   ]
  },
  {
   "cell_type": "markdown",
   "metadata": {},
   "source": [
    "### 0.1 Environment Information"
   ]
  },
  {
   "cell_type": "code",
   "execution_count": 1,
   "metadata": {},
   "outputs": [],
   "source": [
    "%load_ext tensorboard"
   ]
  },
  {
   "cell_type": "code",
   "execution_count": 2,
   "metadata": {
    "pycharm": {
     "name": "#%%\n"
    }
   },
   "outputs": [
    {
     "name": "stdout",
     "output_type": "stream",
     "text": [
      "Device: cuda:0\n",
      "Data Dir: ~/.datasets\n",
      "Device Name: GeForce GTX 1660 Ti\n",
      "Set Random Seed: 42\n"
     ]
    }
   ],
   "source": [
    "import torch\n",
    "from pytorch_lightning import seed_everything\n",
    "\n",
    "device = torch.device(\"cuda:0\" if torch.cuda.is_available() else \"cpu\")\n",
    "print(\"Device:\", device)\n",
    "\n",
    "data_dir = \"~/.datasets\"\n",
    "print(\"Data Dir:\", data_dir)\n",
    "\n",
    "seed = 42\n",
    "seed_everything(seed)\n",
    "\n",
    "if torch.cuda.is_available():\n",
    "    print(\"Device Name:\", torch.cuda.get_device_name(0))\n",
    "print(\"Set Random Seed:\", seed)"
   ]
  },
  {
   "cell_type": "markdown",
   "metadata": {
    "pycharm": {
     "name": "#%% md\n"
    }
   },
   "source": [
    "### 1.1 Train a CNN for CIFAR10 with the best parameters\n"
   ]
  },
  {
   "cell_type": "code",
   "execution_count": 3,
   "metadata": {},
   "outputs": [],
   "source": [
    "import torch\n",
    "import torch.nn as nn\n",
    "from pytorch_lightning import LightningModule\n",
    "from torch.utils.data import DataLoader\n",
    "from torchvision import transforms\n",
    "from torchvision.datasets import CIFAR10\n",
    "\n",
    "CIFAR10_TRANSFORMS = transforms.Compose(\n",
    "    [transforms.ToTensor(), transforms.Normalize((0.5, 0.5, 0.5), (0.5, 0.5, 0.5)),]\n",
    ")\n",
    "\n",
    "\n",
    "class CNN(LightningModule):\n",
    "    def __init__(self, features, num_classes=10, init_weights=True):\n",
    "        super(CNN, self).__init__()\n",
    "        self.features = features\n",
    "        self.avgpool = nn.AdaptiveAvgPool2d((7, 7))\n",
    "        self.classifier = nn.Sequential(\n",
    "            nn.Linear(256 * 7 * 7, 1024),\n",
    "            nn.ReLU(True),\n",
    "            nn.Dropout(),\n",
    "            nn.Linear(1024, 1024),\n",
    "            nn.ReLU(True),\n",
    "            nn.Dropout(),\n",
    "            nn.Linear(1024, num_classes),\n",
    "        )\n",
    "        self.loss = nn.CrossEntropyLoss()\n",
    "        self.batch_size = 256\n",
    "        if init_weights:\n",
    "            self._initialize_weights()\n",
    "            \n",
    "    def set_features(self, features):\n",
    "        self.features = features\n",
    "\n",
    "    def _initialize_weights(self):\n",
    "        \"\"\" from PyTorch's VGG Implementation \"\"\"\n",
    "        for m in self.modules():\n",
    "            if isinstance(m, nn.Conv2d):\n",
    "                nn.init.kaiming_normal_(m.weight, mode=\"fan_out\", nonlinearity=\"relu\")\n",
    "                if m.bias is not None:\n",
    "                    nn.init.constant_(m.bias, 0)\n",
    "            elif isinstance(m, nn.BatchNorm2d):\n",
    "                nn.init.constant_(m.weight, 1)\n",
    "                nn.init.constant_(m.bias, 0)\n",
    "            elif isinstance(m, nn.Linear):\n",
    "                nn.init.normal_(m.weight, 0, 0.01)\n",
    "                nn.init.constant_(m.bias, 0)\n",
    "\n",
    "    def forward(self, x):\n",
    "        x = self.features(x)\n",
    "        x = self.avgpool(x)\n",
    "        x = torch.flatten(x, 1)\n",
    "        x = self.classifier(x)\n",
    "        return x\n",
    "\n",
    "    def configure_optimizers(self):\n",
    "        return torch.optim.AdamW(self.parameters(), lr=3e-3, weight_decay=0.4)\n",
    "\n",
    "    def train_dataloader(self):\n",
    "        dataset = CIFAR10(\n",
    "            data_dir, train=True, download=True, transform=CIFAR10_TRANSFORMS\n",
    "        )\n",
    "        loader = DataLoader(\n",
    "            dataset,\n",
    "            batch_size=self.batch_size,\n",
    "            drop_last=True,\n",
    "            num_workers=10,\n",
    "            shuffle=True,\n",
    "        )\n",
    "        return loader\n",
    "\n",
    "    def training_step(self, batch, batch_idx):\n",
    "        x, y = batch\n",
    "        y_hat = self(x)\n",
    "\n",
    "        loss = self.loss(y_hat, y)\n",
    "\n",
    "        labels_hat = torch.argmax(y_hat, dim=1)\n",
    "        train_acc = torch.sum(y == labels_hat).item() / (len(y) * 1.0)\n",
    "\n",
    "        tensorboard_logs = {\"train_loss\": loss.item(), \"train_acc\": train_acc}\n",
    "        return {\"loss\": loss, \"log\": tensorboard_logs}\n",
    "\n",
    "    def validation_step(self, batch, batch_idx):\n",
    "        x, y = batch\n",
    "        y_hat = self(x)\n",
    "\n",
    "        labels_hat = torch.argmax(y_hat, dim=1)\n",
    "        val_acc = torch.sum(y == labels_hat).item() / (len(y) * 1.0)\n",
    "\n",
    "        return {\"val_loss\": self.loss(y_hat, y), \"val_acc\": torch.tensor(val_acc)}\n",
    "\n",
    "    def validation_epoch_end(self, outputs):\n",
    "        avg_loss = torch.stack([x[\"val_loss\"] for x in outputs]).mean()\n",
    "        avg_acc = torch.stack([x[\"val_acc\"] for x in outputs]).mean()\n",
    "        tensorboard_logs = {\"val_loss\": avg_loss, \"val_acc\": avg_acc}\n",
    "        return {\"val_loss\": avg_loss, \"val_acc\": avg_acc, \"log\": tensorboard_logs}\n",
    "\n",
    "    def val_dataloader(self):\n",
    "        dataset = CIFAR10(\n",
    "            data_dir, train=False, download=True, transform=CIFAR10_TRANSFORMS\n",
    "        )\n",
    "        loader = DataLoader(\n",
    "            dataset, batch_size=self.batch_size, drop_last=True, num_workers=10\n",
    "        )\n",
    "        return loader\n",
    "\n",
    "    @torch.no_grad()\n",
    "    def get_all_preds(self):\n",
    "        all_preds = torch.tensor([]).to(device)\n",
    "        labels = torch.tensor([], dtype=torch.int64).to(device)\n",
    "        for x, y in self.val_dataloader():\n",
    "            x, y = x.to(device), y.to(device)\n",
    "            y_hat = self(x)\n",
    "            all_preds = torch.cat((all_preds, y_hat), dim=0)\n",
    "            labels = torch.cat((labels, y), dim=0)\n",
    "        pred_labels = all_preds.argmax(dim=1)\n",
    "        return pred_labels, labels\n",
    "\n",
    "\n",
    "class MaxAvgPool2d(nn.Module):\n",
    "    def __init__(self, **kwargs):\n",
    "        super(MaxAvgPool2d, self).__init__()\n",
    "        self.max_pooling = nn.MaxPool2d(**kwargs)\n",
    "        self.avg_pooling = nn.AvgPool2d(**kwargs)\n",
    "\n",
    "    def forward(self, x):\n",
    "        return torch.cat([self.max_pooling(x), self.avg_pooling(x)], dim=-1)\n"
   ]
  },
  {
   "cell_type": "markdown",
   "metadata": {
    "pycharm": {
     "name": "#%% md\n"
    }
   },
   "source": [
    "## 1.2 Helper Functions to Construct ConvNets and Run Experiments"
   ]
  },
  {
   "cell_type": "code",
   "execution_count": 4,
   "metadata": {
    "pycharm": {
     "name": "#%%\n"
    }
   },
   "outputs": [],
   "source": [
    "from pytorch_lightning import Trainer\n",
    "from pytorch_lightning.loggers import TensorBoardLogger\n",
    "\n",
    "\n",
    "def make_layers(cfg):\n",
    "    \"\"\" from PyTorch's VGG Implementation \"\"\"\n",
    "    layers = []\n",
    "    in_channels = 3\n",
    "    for v in cfg:\n",
    "        if v == \"M\":\n",
    "            layers += [nn.MaxPool2d(kernel_size=2, stride=2)]\n",
    "        elif v == \"A\":\n",
    "            layers += [nn.AvgPool2d(kernel_size=2, stride=2)]\n",
    "        elif v == \"MA\":\n",
    "            layers += [MaxAvgPool2d(kernel_size=2, stride=2)]\n",
    "        else:\n",
    "            conv2d = nn.Conv2d(in_channels, v, kernel_size=3, padding=1)\n",
    "            layers += [conv2d, nn.BatchNorm2d(v), nn.ReLU(inplace=True)]\n",
    "            in_channels = v\n",
    "    return nn.Sequential(*layers)\n",
    "\n",
    "\n",
    "def run_experiment(tensorboard_graph_name, cfg, max_epochs=50, **kargs):\n",
    "    model = CNN(features=make_layers(cfg), **kargs)\n",
    "\n",
    "    if tensorboard_graph_name:\n",
    "        logger = TensorBoardLogger(\"lightning_logs\", name=tensorboard_graph_name)\n",
    "    else:\n",
    "        logger = False\n",
    "\n",
    "    trainer = Trainer(\n",
    "        gpus=1,\n",
    "        num_nodes=1,\n",
    "        deterministic=True,\n",
    "        max_epochs=max_epochs,\n",
    "        logger=logger, # set False to disble tensorboard logs\n",
    "        progress_bar_refresh_rate=0, # disable progress bar\n",
    "    )\n",
    "    trainer.fit(model)\n",
    "\n",
    "    return model\n"
   ]
  },
  {
   "cell_type": "markdown",
   "metadata": {},
   "source": [
    "## 1.3 Find Architectures That Work Best (inspired by the VGG configurations)\n",
    "\n",
    "We experimented with the **classifier layer** by increasing the depth and number of neurons to reduce the rate of fluctuations in the validation learning curve.\n",
    "\n",
    "For the **features layer**, we found that the architecture that we called `Variant C: [32, 32, \"M\", 64, 64, \"M\", 128, 128, \"M\", 256, 256, \"M\"],` performs the best (considering validation accuracy and training accuracy and no smoothening on Tensorboard) given our training parameters at the end of 50 epochs. Here numbers denote the `out_channels` and `M` stands for `MaxPooling`.\n"
   ]
  },
  {
   "cell_type": "code",
   "execution_count": 2,
   "metadata": {},
   "outputs": [
    {
     "data": {
      "text/html": [
       "\n",
       "      <iframe id=\"tensorboard-frame-ae319cb4307f6b7\" width=\"100%\" height=\"800\" frameborder=\"0\">\n",
       "      </iframe>\n",
       "      <script>\n",
       "        (function() {\n",
       "          const frame = document.getElementById(\"tensorboard-frame-ae319cb4307f6b7\");\n",
       "          const url = new URL(\"/\", window.location);\n",
       "          url.port = 6012;\n",
       "          frame.src = url;\n",
       "        })();\n",
       "      </script>\n",
       "  "
      ],
      "text/plain": [
       "<IPython.core.display.HTML object>"
      ]
     },
     "metadata": {},
     "output_type": "display_data"
    }
   ],
   "source": [
    "%tensorboard --logdir lightning_logs/conv"
   ]
  },
  {
   "cell_type": "code",
   "execution_count": 6,
   "metadata": {
    "pycharm": {
     "name": "#%%\n"
    }
   },
   "outputs": [],
   "source": [
    "model = None"
   ]
  },
  {
   "cell_type": "code",
   "execution_count": 7,
   "metadata": {
    "pycharm": {
     "name": "#%%\n"
    }
   },
   "outputs": [
    {
     "name": "stderr",
     "output_type": "stream",
     "text": [
      "GPU available: True, used: True\n",
      "No environment variable for node rank defined. Set as 0.\n",
      "CUDA_VISIBLE_DEVICES: [0]\n",
      "\n",
      "   | Name         | Type              | Params\n",
      "-----------------------------------------------\n",
      "0  | features     | Sequential        | 389 K \n",
      "1  | features.0   | Conv2d            | 896   \n",
      "2  | features.1   | BatchNorm2d       | 64    \n",
      "3  | features.2   | ReLU              | 0     \n",
      "4  | features.3   | MaxPool2d         | 0     \n",
      "5  | features.4   | Conv2d            | 18 K  \n",
      "6  | features.5   | BatchNorm2d       | 128   \n",
      "7  | features.6   | ReLU              | 0     \n",
      "8  | features.7   | MaxPool2d         | 0     \n",
      "9  | features.8   | Conv2d            | 73 K  \n",
      "10 | features.9   | BatchNorm2d       | 256   \n",
      "11 | features.10  | ReLU              | 0     \n",
      "12 | features.11  | MaxPool2d         | 0     \n",
      "13 | features.12  | Conv2d            | 295 K \n",
      "14 | features.13  | BatchNorm2d       | 512   \n",
      "15 | features.14  | ReLU              | 0     \n",
      "16 | features.15  | MaxPool2d         | 0     \n",
      "17 | avgpool      | AdaptiveAvgPool2d | 0     \n",
      "18 | classifier   | Sequential        | 13 M  \n",
      "19 | classifier.0 | Linear            | 12 M  \n",
      "20 | classifier.1 | ReLU              | 0     \n",
      "21 | classifier.2 | Dropout           | 0     \n",
      "22 | classifier.3 | Linear            | 1 M   \n",
      "23 | classifier.4 | ReLU              | 0     \n",
      "24 | classifier.5 | Dropout           | 0     \n",
      "25 | classifier.6 | Linear            | 10 K  \n",
      "26 | loss         | CrossEntropyLoss  | 0     \n"
     ]
    },
    {
     "name": "stdout",
     "output_type": "stream",
     "text": [
      "Files already downloaded and verified\n",
      "Files already downloaded and verified\n",
      "Files already downloaded and verified\n"
     ]
    },
    {
     "name": "stderr",
     "output_type": "stream",
     "text": [
      "/home/dhruvang/Applications/miniconda3/envs/cudavision/lib/python3.8/site-packages/pytorch_lightning/utilities/distributed.py:23: UserWarning: Did not find hyperparameters at model hparams. Saving checkpoint without hyperparameters.\n",
      "  warnings.warn(*args, **kwargs)\n",
      "GPU available: True, used: True\n",
      "No environment variable for node rank defined. Set as 0.\n",
      "CUDA_VISIBLE_DEVICES: [0]\n",
      "\n",
      "   | Name         | Type              | Params\n",
      "-----------------------------------------------\n",
      "0  | features     | Sequential        | 1 M   \n",
      "1  | features.0   | Conv2d            | 896   \n",
      "2  | features.1   | BatchNorm2d       | 64    \n",
      "3  | features.2   | ReLU              | 0     \n",
      "4  | features.3   | MaxPool2d         | 0     \n",
      "5  | features.4   | Conv2d            | 18 K  \n",
      "6  | features.5   | BatchNorm2d       | 128   \n",
      "7  | features.6   | ReLU              | 0     \n",
      "8  | features.7   | MaxPool2d         | 0     \n",
      "9  | features.8   | Conv2d            | 73 K  \n",
      "10 | features.9   | BatchNorm2d       | 256   \n",
      "11 | features.10  | ReLU              | 0     \n",
      "12 | features.11  | Conv2d            | 147 K \n",
      "13 | features.12  | BatchNorm2d       | 256   \n",
      "14 | features.13  | ReLU              | 0     \n",
      "15 | features.14  | MaxPool2d         | 0     \n",
      "16 | features.15  | Conv2d            | 295 K \n",
      "17 | features.16  | BatchNorm2d       | 512   \n",
      "18 | features.17  | ReLU              | 0     \n",
      "19 | features.18  | Conv2d            | 590 K \n",
      "20 | features.19  | BatchNorm2d       | 512   \n",
      "21 | features.20  | ReLU              | 0     \n",
      "22 | features.21  | MaxPool2d         | 0     \n",
      "23 | avgpool      | AdaptiveAvgPool2d | 0     \n",
      "24 | classifier   | Sequential        | 13 M  \n",
      "25 | classifier.0 | Linear            | 12 M  \n",
      "26 | classifier.1 | ReLU              | 0     \n",
      "27 | classifier.2 | Dropout           | 0     \n",
      "28 | classifier.3 | Linear            | 1 M   \n",
      "29 | classifier.4 | ReLU              | 0     \n",
      "30 | classifier.5 | Dropout           | 0     \n",
      "31 | classifier.6 | Linear            | 10 K  \n",
      "32 | loss         | CrossEntropyLoss  | 0     \n"
     ]
    },
    {
     "name": "stdout",
     "output_type": "stream",
     "text": [
      "Files already downloaded and verified\n",
      "Files already downloaded and verified\n",
      "Files already downloaded and verified\n"
     ]
    },
    {
     "name": "stderr",
     "output_type": "stream",
     "text": [
      "GPU available: True, used: True\n",
      "No environment variable for node rank defined. Set as 0.\n",
      "CUDA_VISIBLE_DEVICES: [0]\n",
      "\n",
      "   | Name         | Type              | Params\n",
      "-----------------------------------------------\n",
      "0  | features     | Sequential        | 1 M   \n",
      "1  | features.0   | Conv2d            | 896   \n",
      "2  | features.1   | BatchNorm2d       | 64    \n",
      "3  | features.2   | ReLU              | 0     \n",
      "4  | features.3   | Conv2d            | 9 K   \n",
      "5  | features.4   | BatchNorm2d       | 64    \n",
      "6  | features.5   | ReLU              | 0     \n",
      "7  | features.6   | MaxPool2d         | 0     \n",
      "8  | features.7   | Conv2d            | 18 K  \n",
      "9  | features.8   | BatchNorm2d       | 128   \n",
      "10 | features.9   | ReLU              | 0     \n",
      "11 | features.10  | Conv2d            | 36 K  \n",
      "12 | features.11  | BatchNorm2d       | 128   \n",
      "13 | features.12  | ReLU              | 0     \n",
      "14 | features.13  | MaxPool2d         | 0     \n",
      "15 | features.14  | Conv2d            | 73 K  \n",
      "16 | features.15  | BatchNorm2d       | 256   \n",
      "17 | features.16  | ReLU              | 0     \n",
      "18 | features.17  | Conv2d            | 147 K \n",
      "19 | features.18  | BatchNorm2d       | 256   \n",
      "20 | features.19  | ReLU              | 0     \n",
      "21 | features.20  | MaxPool2d         | 0     \n",
      "22 | features.21  | Conv2d            | 295 K \n",
      "23 | features.22  | BatchNorm2d       | 512   \n",
      "24 | features.23  | ReLU              | 0     \n",
      "25 | features.24  | Conv2d            | 590 K \n",
      "26 | features.25  | BatchNorm2d       | 512   \n",
      "27 | features.26  | ReLU              | 0     \n",
      "28 | features.27  | MaxPool2d         | 0     \n",
      "29 | avgpool      | AdaptiveAvgPool2d | 0     \n",
      "30 | classifier   | Sequential        | 13 M  \n",
      "31 | classifier.0 | Linear            | 12 M  \n",
      "32 | classifier.1 | ReLU              | 0     \n",
      "33 | classifier.2 | Dropout           | 0     \n",
      "34 | classifier.3 | Linear            | 1 M   \n",
      "35 | classifier.4 | ReLU              | 0     \n",
      "36 | classifier.5 | Dropout           | 0     \n",
      "37 | classifier.6 | Linear            | 10 K  \n",
      "38 | loss         | CrossEntropyLoss  | 0     \n"
     ]
    },
    {
     "name": "stdout",
     "output_type": "stream",
     "text": [
      "Files already downloaded and verified\n",
      "Files already downloaded and verified\n",
      "Files already downloaded and verified\n"
     ]
    },
    {
     "name": "stderr",
     "output_type": "stream",
     "text": [
      "GPU available: True, used: True\n",
      "No environment variable for node rank defined. Set as 0.\n",
      "CUDA_VISIBLE_DEVICES: [0]\n",
      "\n",
      "   | Name         | Type              | Params\n",
      "-----------------------------------------------\n",
      "0  | features     | Sequential        | 1 M   \n",
      "1  | features.0   | Conv2d            | 896   \n",
      "2  | features.1   | BatchNorm2d       | 64    \n",
      "3  | features.2   | ReLU              | 0     \n",
      "4  | features.3   | Conv2d            | 9 K   \n",
      "5  | features.4   | BatchNorm2d       | 64    \n",
      "6  | features.5   | ReLU              | 0     \n",
      "7  | features.6   | Conv2d            | 9 K   \n",
      "8  | features.7   | BatchNorm2d       | 64    \n",
      "9  | features.8   | ReLU              | 0     \n",
      "10 | features.9   | MaxPool2d         | 0     \n",
      "11 | features.10  | Conv2d            | 18 K  \n",
      "12 | features.11  | BatchNorm2d       | 128   \n",
      "13 | features.12  | ReLU              | 0     \n",
      "14 | features.13  | Conv2d            | 36 K  \n",
      "15 | features.14  | BatchNorm2d       | 128   \n",
      "16 | features.15  | ReLU              | 0     \n",
      "17 | features.16  | Conv2d            | 36 K  \n",
      "18 | features.17  | BatchNorm2d       | 128   \n",
      "19 | features.18  | ReLU              | 0     \n",
      "20 | features.19  | MaxPool2d         | 0     \n",
      "21 | features.20  | Conv2d            | 73 K  \n",
      "22 | features.21  | BatchNorm2d       | 256   \n",
      "23 | features.22  | ReLU              | 0     \n",
      "24 | features.23  | Conv2d            | 147 K \n",
      "25 | features.24  | BatchNorm2d       | 256   \n",
      "26 | features.25  | ReLU              | 0     \n",
      "27 | features.26  | Conv2d            | 147 K \n",
      "28 | features.27  | BatchNorm2d       | 256   \n",
      "29 | features.28  | ReLU              | 0     \n",
      "30 | features.29  | MaxPool2d         | 0     \n",
      "31 | features.30  | Conv2d            | 295 K \n",
      "32 | features.31  | BatchNorm2d       | 512   \n",
      "33 | features.32  | ReLU              | 0     \n",
      "34 | features.33  | Conv2d            | 590 K \n",
      "35 | features.34  | BatchNorm2d       | 512   \n",
      "36 | features.35  | ReLU              | 0     \n",
      "37 | features.36  | Conv2d            | 590 K \n",
      "38 | features.37  | BatchNorm2d       | 512   \n",
      "39 | features.38  | ReLU              | 0     \n",
      "40 | features.39  | MaxPool2d         | 0     \n",
      "41 | avgpool      | AdaptiveAvgPool2d | 0     \n",
      "42 | classifier   | Sequential        | 13 M  \n",
      "43 | classifier.0 | Linear            | 12 M  \n",
      "44 | classifier.1 | ReLU              | 0     \n",
      "45 | classifier.2 | Dropout           | 0     \n",
      "46 | classifier.3 | Linear            | 1 M   \n",
      "47 | classifier.4 | ReLU              | 0     \n",
      "48 | classifier.5 | Dropout           | 0     \n",
      "49 | classifier.6 | Linear            | 10 K  \n",
      "50 | loss         | CrossEntropyLoss  | 0     \n"
     ]
    },
    {
     "name": "stdout",
     "output_type": "stream",
     "text": [
      "Files already downloaded and verified\n",
      "Files already downloaded and verified\n",
      "Files already downloaded and verified\n"
     ]
    }
   ],
   "source": [
    "conv_cfgs = {\n",
    "    \"A\": [32, \"M\", 64, \"M\", 128, \"M\", 256, \"M\"],\n",
    "    \"B\": [32, \"M\", 64, \"M\", 128, 128, \"M\", 256, 256, \"M\"],\n",
    "    \"C\": [32, 32, \"M\", 64, 64, \"M\", 128, 128, \"M\", 256, 256, \"M\"],\n",
    "    \"D\": [32, 32, 32, \"M\", 64, 64, 64, \"M\", 128, 128, 128, \"M\", 256, 256, 256, \"M\"],\n",
    "}\n",
    "\n",
    "for arch, cfg in conv_cfgs.items():\n",
    "    model = run_experiment(\n",
    "        tensorboard_graph_name=f\"conv/cfg_{arch}\", cfg=cfg, max_epochs=50\n",
    "    )"
   ]
  },
  {
   "cell_type": "markdown",
   "metadata": {},
   "source": [
    "### 2. Comparing different pooling layers: [Average, Max, Average+Max]\n",
    "\n",
    "We found that `Max Pooling` performs the best."
   ]
  },
  {
   "cell_type": "code",
   "execution_count": 3,
   "metadata": {},
   "outputs": [
    {
     "data": {
      "text/html": [
       "\n",
       "      <iframe id=\"tensorboard-frame-bf4cfb0a6e5c3103\" width=\"100%\" height=\"800\" frameborder=\"0\">\n",
       "      </iframe>\n",
       "      <script>\n",
       "        (function() {\n",
       "          const frame = document.getElementById(\"tensorboard-frame-bf4cfb0a6e5c3103\");\n",
       "          const url = new URL(\"/\", window.location);\n",
       "          url.port = 6013;\n",
       "          frame.src = url;\n",
       "        })();\n",
       "      </script>\n",
       "  "
      ],
      "text/plain": [
       "<IPython.core.display.HTML object>"
      ]
     },
     "metadata": {},
     "output_type": "display_data"
    }
   ],
   "source": [
    "%tensorboard --logdir lightning_logs/pooling"
   ]
  },
  {
   "cell_type": "code",
   "execution_count": null,
   "metadata": {
    "pycharm": {
     "name": "#%%\n"
    }
   },
   "outputs": [
    {
     "name": "stderr",
     "output_type": "stream",
     "text": [
      "GPU available: True, used: True\n",
      "No environment variable for node rank defined. Set as 0.\n",
      "CUDA_VISIBLE_DEVICES: [0]\n",
      "\n",
      "   | Name                    | Type              | Params\n",
      "----------------------------------------------------------\n",
      "0  | features                | Sequential        | 389 K \n",
      "1  | features.0              | Conv2d            | 896   \n",
      "2  | features.1              | BatchNorm2d       | 64    \n",
      "3  | features.2              | ReLU              | 0     \n",
      "4  | features.3              | MaxAvgPool2d      | 0     \n",
      "5  | features.3.max_pooling  | MaxPool2d         | 0     \n",
      "6  | features.3.avg_pooling  | AvgPool2d         | 0     \n",
      "7  | features.4              | Conv2d            | 18 K  \n",
      "8  | features.5              | BatchNorm2d       | 128   \n",
      "9  | features.6              | ReLU              | 0     \n",
      "10 | features.7              | MaxAvgPool2d      | 0     \n",
      "11 | features.7.max_pooling  | MaxPool2d         | 0     \n",
      "12 | features.7.avg_pooling  | AvgPool2d         | 0     \n",
      "13 | features.8              | Conv2d            | 73 K  \n",
      "14 | features.9              | BatchNorm2d       | 256   \n",
      "15 | features.10             | ReLU              | 0     \n",
      "16 | features.11             | MaxAvgPool2d      | 0     \n",
      "17 | features.11.max_pooling | MaxPool2d         | 0     \n",
      "18 | features.11.avg_pooling | AvgPool2d         | 0     \n",
      "19 | features.12             | Conv2d            | 295 K \n",
      "20 | features.13             | BatchNorm2d       | 512   \n",
      "21 | features.14             | ReLU              | 0     \n",
      "22 | features.15             | MaxAvgPool2d      | 0     \n",
      "23 | features.15.max_pooling | MaxPool2d         | 0     \n",
      "24 | features.15.avg_pooling | AvgPool2d         | 0     \n",
      "25 | avgpool                 | AdaptiveAvgPool2d | 0     \n",
      "26 | classifier              | Sequential        | 13 M  \n",
      "27 | classifier.0            | Linear            | 12 M  \n",
      "28 | classifier.1            | ReLU              | 0     \n",
      "29 | classifier.2            | Dropout           | 0     \n",
      "30 | classifier.3            | Linear            | 1 M   \n",
      "31 | classifier.4            | ReLU              | 0     \n",
      "32 | classifier.5            | Dropout           | 0     \n",
      "33 | classifier.6            | Linear            | 10 K  \n",
      "34 | loss                    | CrossEntropyLoss  | 0     \n"
     ]
    },
    {
     "name": "stdout",
     "output_type": "stream",
     "text": [
      "Files already downloaded and verified\n",
      "Files already downloaded and verified\n",
      "Files already downloaded and verified\n"
     ]
    },
    {
     "name": "stderr",
     "output_type": "stream",
     "text": [
      "GPU available: True, used: True\n",
      "No environment variable for node rank defined. Set as 0.\n",
      "CUDA_VISIBLE_DEVICES: [0]\n",
      "\n",
      "   | Name         | Type              | Params\n",
      "-----------------------------------------------\n",
      "0  | features     | Sequential        | 389 K \n",
      "1  | features.0   | Conv2d            | 896   \n",
      "2  | features.1   | BatchNorm2d       | 64    \n",
      "3  | features.2   | ReLU              | 0     \n",
      "4  | features.3   | AvgPool2d         | 0     \n",
      "5  | features.4   | Conv2d            | 18 K  \n",
      "6  | features.5   | BatchNorm2d       | 128   \n",
      "7  | features.6   | ReLU              | 0     \n",
      "8  | features.7   | AvgPool2d         | 0     \n",
      "9  | features.8   | Conv2d            | 73 K  \n",
      "10 | features.9   | BatchNorm2d       | 256   \n",
      "11 | features.10  | ReLU              | 0     \n",
      "12 | features.11  | AvgPool2d         | 0     \n",
      "13 | features.12  | Conv2d            | 295 K \n",
      "14 | features.13  | BatchNorm2d       | 512   \n",
      "15 | features.14  | ReLU              | 0     \n",
      "16 | features.15  | AvgPool2d         | 0     \n",
      "17 | avgpool      | AdaptiveAvgPool2d | 0     \n",
      "18 | classifier   | Sequential        | 13 M  \n",
      "19 | classifier.0 | Linear            | 12 M  \n",
      "20 | classifier.1 | ReLU              | 0     \n",
      "21 | classifier.2 | Dropout           | 0     \n",
      "22 | classifier.3 | Linear            | 1 M   \n",
      "23 | classifier.4 | ReLU              | 0     \n",
      "24 | classifier.5 | Dropout           | 0     \n",
      "25 | classifier.6 | Linear            | 10 K  \n",
      "26 | loss         | CrossEntropyLoss  | 0     \n"
     ]
    },
    {
     "name": "stdout",
     "output_type": "stream",
     "text": [
      "Files already downloaded and verified\n",
      "Files already downloaded and verified\n",
      "Files already downloaded and verified\n"
     ]
    },
    {
     "name": "stderr",
     "output_type": "stream",
     "text": [
      "GPU available: True, used: True\n",
      "No environment variable for node rank defined. Set as 0.\n",
      "CUDA_VISIBLE_DEVICES: [0]\n",
      "\n",
      "   | Name         | Type              | Params\n",
      "-----------------------------------------------\n",
      "0  | features     | Sequential        | 389 K \n",
      "1  | features.0   | Conv2d            | 896   \n",
      "2  | features.1   | BatchNorm2d       | 64    \n",
      "3  | features.2   | ReLU              | 0     \n",
      "4  | features.3   | MaxPool2d         | 0     \n",
      "5  | features.4   | Conv2d            | 18 K  \n",
      "6  | features.5   | BatchNorm2d       | 128   \n",
      "7  | features.6   | ReLU              | 0     \n",
      "8  | features.7   | MaxPool2d         | 0     \n",
      "9  | features.8   | Conv2d            | 73 K  \n",
      "10 | features.9   | BatchNorm2d       | 256   \n",
      "11 | features.10  | ReLU              | 0     \n",
      "12 | features.11  | MaxPool2d         | 0     \n",
      "13 | features.12  | Conv2d            | 295 K \n",
      "14 | features.13  | BatchNorm2d       | 512   \n",
      "15 | features.14  | ReLU              | 0     \n",
      "16 | features.15  | MaxPool2d         | 0     \n",
      "17 | avgpool      | AdaptiveAvgPool2d | 0     \n",
      "18 | classifier   | Sequential        | 13 M  \n",
      "19 | classifier.0 | Linear            | 12 M  \n",
      "20 | classifier.1 | ReLU              | 0     \n",
      "21 | classifier.2 | Dropout           | 0     \n",
      "22 | classifier.3 | Linear            | 1 M   \n",
      "23 | classifier.4 | ReLU              | 0     \n",
      "24 | classifier.5 | Dropout           | 0     \n",
      "25 | classifier.6 | Linear            | 10 K  \n",
      "26 | loss         | CrossEntropyLoss  | 0     \n"
     ]
    },
    {
     "name": "stdout",
     "output_type": "stream",
     "text": [
      "Files already downloaded and verified\n",
      "Files already downloaded and verified\n",
      "Files already downloaded and verified\n"
     ]
    }
   ],
   "source": [
    "pooling_cfgs = {\n",
    "    \"A_M+A\": [32, \"MA\", 64, \"MA\", 128, \"MA\", 256, \"MA\"],\n",
    "    \"A_A\": [32, \"A\", 64, \"A\", 128, \"A\", 256, \"A\"],\n",
    "    \"A_M\": [32, \"M\", 64, \"M\", 128, \"M\", 256, \"M\"],\n",
    "}\n",
    "\n",
    "for arch, cfg in pooling_cfgs.items():\n",
    "    model = run_experiment(\n",
    "        tensorboard_graph_name=f\"pooling/cfg_{arch}\", cfg=cfg, max_epochs=50\n",
    "    )"
   ]
  },
  {
   "cell_type": "markdown",
   "metadata": {
    "pycharm": {
     "name": "#%% md\n"
    }
   },
   "source": [
    "### 3. Visualize Kernel of Each Convolution Filter"
   ]
  },
  {
   "cell_type": "code",
   "execution_count": 5,
   "metadata": {
    "pycharm": {
     "name": "#%%\n"
    }
   },
   "outputs": [],
   "source": [
    "import matplotlib.pyplot as plt\n",
    "import numpy as np\n",
    "from torchvision import utils\n",
    "\n",
    "\n",
    "def vistensor(tensor, ch=0, allkernels=False, nrow=8, padding=1):\n",
    "\n",
    "    # Un-Normalize\n",
    "    tensor = tensor / 2 + 0.5\n",
    "\n",
    "    n, c, w, h = tensor.shape\n",
    "    if allkernels:\n",
    "        tensor = tensor.view(n * c, -1, w, h)\n",
    "    elif c != 3:\n",
    "        tensor = tensor[:, ch, :, :].unsqueeze(dim=1)\n",
    "\n",
    "    rows = np.min((tensor.shape[0] // nrow + 1, 64))\n",
    "    grid = utils.make_grid(tensor, nrow=nrow, normalize=True, padding=padding)\n",
    "    plt.figure(figsize=(nrow, rows))\n",
    "    plt.imshow(grid.numpy().transpose((1, 2, 0)))\n"
   ]
  },
  {
   "cell_type": "code",
   "execution_count": 6,
   "metadata": {},
   "outputs": [
    {
     "name": "stderr",
     "output_type": "stream",
     "text": [
      "GPU available: True, used: True\n",
      "No environment variable for node rank defined. Set as 0.\n",
      "CUDA_VISIBLE_DEVICES: [0]\n",
      "\n",
      "   | Name         | Type              | Params\n",
      "-----------------------------------------------\n",
      "0  | features     | Sequential        | 389 K \n",
      "1  | features.0   | Conv2d            | 896   \n",
      "2  | features.1   | BatchNorm2d       | 64    \n",
      "3  | features.2   | ReLU              | 0     \n",
      "4  | features.3   | MaxPool2d         | 0     \n",
      "5  | features.4   | Conv2d            | 18 K  \n",
      "6  | features.5   | BatchNorm2d       | 128   \n",
      "7  | features.6   | ReLU              | 0     \n",
      "8  | features.7   | MaxPool2d         | 0     \n",
      "9  | features.8   | Conv2d            | 73 K  \n",
      "10 | features.9   | BatchNorm2d       | 256   \n",
      "11 | features.10  | ReLU              | 0     \n",
      "12 | features.11  | MaxPool2d         | 0     \n",
      "13 | features.12  | Conv2d            | 295 K \n",
      "14 | features.13  | BatchNorm2d       | 512   \n",
      "15 | features.14  | ReLU              | 0     \n",
      "16 | features.15  | MaxPool2d         | 0     \n",
      "17 | avgpool      | AdaptiveAvgPool2d | 0     \n",
      "18 | classifier   | Sequential        | 13 M  \n",
      "19 | classifier.0 | Linear            | 12 M  \n",
      "20 | classifier.1 | ReLU              | 0     \n",
      "21 | classifier.2 | Dropout           | 0     \n",
      "22 | classifier.3 | Linear            | 1 M   \n",
      "23 | classifier.4 | ReLU              | 0     \n",
      "24 | classifier.5 | Dropout           | 0     \n",
      "25 | classifier.6 | Linear            | 10 K  \n",
      "26 | loss         | CrossEntropyLoss  | 0     \n"
     ]
    },
    {
     "name": "stdout",
     "output_type": "stream",
     "text": [
      "Files already downloaded and verified\n",
      "Files already downloaded and verified\n",
      "Files already downloaded and verified\n"
     ]
    },
    {
     "name": "stderr",
     "output_type": "stream",
     "text": [
      "/home/dhruvang/Applications/miniconda3/envs/cudavision/lib/python3.8/site-packages/pytorch_lightning/utilities/distributed.py:23: UserWarning: Did not find hyperparameters at model hparams. Saving checkpoint without hyperparameters.\n",
      "  warnings.warn(*args, **kwargs)\n"
     ]
    }
   ],
   "source": [
    "model = run_experiment(\n",
    "        tensorboard_graph_name=None, cfg=[32, \"M\", 64, \"M\", 128, \"M\", 256, \"M\"], max_epochs=20\n",
    "    )"
   ]
  },
  {
   "cell_type": "code",
   "execution_count": 7,
   "metadata": {
    "pycharm": {
     "name": "#%%\n"
    }
   },
   "outputs": [
    {
     "name": "stdout",
     "output_type": "stream",
     "text": [
      "\n",
      "Conv2d in Layer 0\n",
      "------------\n",
      "torch.Size([32, 3, 3, 3])\n",
      "\n",
      "Conv2d in Layer 4\n",
      "------------\n",
      "torch.Size([64, 32, 3, 3])\n",
      "\n",
      "Conv2d in Layer 8\n",
      "------------\n",
      "torch.Size([128, 64, 3, 3])\n",
      "\n",
      "Conv2d in Layer 12\n",
      "------------\n",
      "torch.Size([256, 128, 3, 3])\n"
     ]
    },
    {
     "data": {
      "image/png": "[encoded data removed]",
      "text/plain": [
       "<Figure size 576x360 with 1 Axes>"
      ]
     },
     "metadata": {
      "needs_background": "light"
     },
     "output_type": "display_data"
    },
    {
     "data": {
      "image/png": "[encoded data removed]",
      "text/plain": [
       "<Figure size 576x648 with 1 Axes>"
      ]
     },
     "metadata": {
      "needs_background": "light"
     },
     "output_type": "display_data"
    },
    {
     "data": {
      "image/png": "[encoded data removed]",
      "text/plain": [
       "<Figure size 576x1224 with 1 Axes>"
      ]
     },
     "metadata": {
      "needs_background": "light"
     },
     "output_type": "display_data"
    },
    {
     "data": {
      "image/png": "[encoded data removed]",
      "text/plain": [
       "<Figure size 576x2376 with 1 Axes>"
      ]
     },
     "metadata": {
      "needs_background": "light"
     },
     "output_type": "display_data"
    }
   ],
   "source": [
    "for i, layer in enumerate(model.features):\n",
    "    if type(layer) is nn.Conv2d:\n",
    "        print(f\"\\nConv2d in Layer {i}\\n------------\")\n",
    "        kernel = layer.weight.data.cpu()\n",
    "        print(kernel.shape)\n",
    "        vistensor(kernel, ch=0, allkernels=False)"
   ]
  },
  {
   "cell_type": "markdown",
   "metadata": {},
   "source": [
    "### 4. Visualize Activation"
   ]
  },
  {
   "cell_type": "code",
   "execution_count": 8,
   "metadata": {},
   "outputs": [],
   "source": [
    "\n",
    "def vis_activation(tensor, nrow=8, padding=1):\n",
    "    \n",
    "    # Un-Normalize\n",
    "    tensor = tensor / 2 + 0.5\n",
    "\n",
    "    n, c, w, h = tensor.shape\n",
    "    tensor = tensor.view(n * c, -1, w, h)\n",
    "\n",
    "    rows = np.min((tensor.shape[0] // nrow + 1, 64))\n",
    "    grid = utils.make_grid(tensor, nrow=nrow, normalize=False, padding=padding)\n",
    "    plt.figure(figsize=(nrow, rows))\n",
    "    plt.imshow(grid.numpy().transpose((1, 2, 0)), interpolation=\"nearest\")\n"
   ]
  },
  {
   "cell_type": "code",
   "execution_count": 9,
   "metadata": {},
   "outputs": [
    {
     "name": "stderr",
     "output_type": "stream",
     "text": [
      "GPU available: True, used: True\n",
      "No environment variable for node rank defined. Set as 0.\n",
      "CUDA_VISIBLE_DEVICES: [0]\n",
      "\n",
      "   | Name         | Type              | Params\n",
      "-----------------------------------------------\n",
      "0  | features     | Sequential        | 389 K \n",
      "1  | features.0   | Conv2d            | 896   \n",
      "2  | features.1   | BatchNorm2d       | 64    \n",
      "3  | features.2   | ReLU              | 0     \n",
      "4  | features.3   | MaxPool2d         | 0     \n",
      "5  | features.4   | Conv2d            | 18 K  \n",
      "6  | features.5   | BatchNorm2d       | 128   \n",
      "7  | features.6   | ReLU              | 0     \n",
      "8  | features.7   | MaxPool2d         | 0     \n",
      "9  | features.8   | Conv2d            | 73 K  \n",
      "10 | features.9   | BatchNorm2d       | 256   \n",
      "11 | features.10  | ReLU              | 0     \n",
      "12 | features.11  | MaxPool2d         | 0     \n",
      "13 | features.12  | Conv2d            | 295 K \n",
      "14 | features.13  | BatchNorm2d       | 512   \n",
      "15 | features.14  | ReLU              | 0     \n",
      "16 | features.15  | MaxPool2d         | 0     \n",
      "17 | avgpool      | AdaptiveAvgPool2d | 0     \n",
      "18 | classifier   | Sequential        | 13 M  \n",
      "19 | classifier.0 | Linear            | 12 M  \n",
      "20 | classifier.1 | ReLU              | 0     \n",
      "21 | classifier.2 | Dropout           | 0     \n",
      "22 | classifier.3 | Linear            | 1 M   \n",
      "23 | classifier.4 | ReLU              | 0     \n",
      "24 | classifier.5 | Dropout           | 0     \n",
      "25 | classifier.6 | Linear            | 10 K  \n",
      "26 | loss         | CrossEntropyLoss  | 0     \n",
      "/home/dhruvang/Applications/miniconda3/envs/cudavision/lib/python3.8/site-packages/pytorch_lightning/utilities/distributed.py:23: UserWarning: Checkpoint directory /home/dhruvang/Studyspace/lab/cudavision/assignment-04/checkpoints exists and is not empty with save_top_k != 0.All files in this directory will be deleted when a checkpoint is saved!\n",
      "  warnings.warn(*args, **kwargs)\n"
     ]
    },
    {
     "name": "stdout",
     "output_type": "stream",
     "text": [
      "Files already downloaded and verified\n",
      "Files already downloaded and verified\n",
      "Files already downloaded and verified\n"
     ]
    }
   ],
   "source": [
    "model = run_experiment(\n",
    "        tensorboard_graph_name=None, cfg=[32, \"M\", 64, \"M\", 128, \"M\", 256, \"M\"], max_epochs=20\n",
    "    )"
   ]
  },
  {
   "cell_type": "code",
   "execution_count": 10,
   "metadata": {
    "pycharm": {
     "name": "#%%\n"
    }
   },
   "outputs": [],
   "source": [
    "from functools import partial\n",
    "\n",
    "\n",
    "def vis_relu(name, mod, inp, out):\n",
    "    print(\"Shape\", out.shape)\n",
    "    vis_activation(out.detach().cpu())\n",
    "\n",
    "\n",
    "prev = None\n",
    "\n",
    "for name, m in model.named_modules():\n",
    "    if type(m) == nn.ReLU and prev == nn.BatchNorm2d:\n",
    "        m.register_forward_hook(partial(vis_relu, name))\n",
    "\n",
    "    prev = type(m)"
   ]
  },
  {
   "cell_type": "code",
   "execution_count": 11,
   "metadata": {
    "pycharm": {
     "name": "#%%\n"
    }
   },
   "outputs": [
    {
     "name": "stdout",
     "output_type": "stream",
     "text": [
      "Files already downloaded and verified\n",
      "Shape torch.Size([1, 32, 32, 32])\n",
      "Shape torch.Size([1, 64, 16, 16])\n",
      "Shape torch.Size([1, 128, 8, 8])\n",
      "Shape torch.Size([1, 256, 4, 4])\n"
     ]
    },
    {
     "data": {
      "text/plain": [
       "tensor([[-0.4175, -0.4971, -1.8140,  0.5991, -1.4435, -0.6260, -1.7792, -0.7363,\n",
       "         -0.5750, -0.0058]], device='cuda:0', grad_fn=<AddmmBackward>)"
      ]
     },
     "execution_count": 11,
     "metadata": {},
     "output_type": "execute_result"
    },
    {
     "data": {
      "image/png": "[encoded data removed]",
      "text/plain": [
       "<Figure size 576x72 with 1 Axes>"
      ]
     },
     "metadata": {
      "needs_background": "light"
     },
     "output_type": "display_data"
    },
    {
     "data": {
      "image/png": "[encoded data removed]",
      "text/plain": [
       "<Figure size 576x360 with 1 Axes>"
      ]
     },
     "metadata": {
      "needs_background": "light"
     },
     "output_type": "display_data"
    },
    {
     "data": {
      "image/png": "[encoded data removed]",
      "text/plain": [
       "<Figure size 576x648 with 1 Axes>"
      ]
     },
     "metadata": {
      "needs_background": "light"
     },
     "output_type": "display_data"
    },
    {
     "data": {
      "image/png": "[encoded data removed]",
      "text/plain": [
       "<Figure size 576x1224 with 1 Axes>"
      ]
     },
     "metadata": {
      "needs_background": "light"
     },
     "output_type": "display_data"
    },
    {
     "data": {
      "image/png": "[encoded data removed]",
      "text/plain": [
       "<Figure size 576x2376 with 1 Axes>"
      ]
     },
     "metadata": {
      "needs_background": "light"
     },
     "output_type": "display_data"
    }
   ],
   "source": [
    "val_data_iter = iter(model.val_dataloader())\n",
    "images, labels = val_data_iter.next()\n",
    "batch_single_image = images[2:3].clone().detach().to(device)\n",
    "\n",
    "vis_activation(batch_single_image.cpu())\n",
    "\n",
    "model(batch_single_image)"
   ]
  },
  {
   "cell_type": "markdown",
   "metadata": {},
   "source": [
    "### 5. Load Convolution Layer's Weights into Fully Connected Layer"
   ]
  },
  {
   "cell_type": "code",
   "execution_count": 12,
   "metadata": {
    "pycharm": {
     "name": "#%%\n"
    }
   },
   "outputs": [],
   "source": [
    "features_conv_1x1 = nn.Sequential(\n",
    "        nn.Conv2d(3, 32, kernel_size=3, padding=1),\n",
    "        nn.ReLU(inplace=True),\n",
    "        nn.Conv2d(32, 32, kernel_size=1, padding=0),################## Original Conv Layer\n",
    "        nn.ReLU(inplace=True),\n",
    "        nn.Conv2d(32, 256, kernel_size=3, padding=1),\n",
    "        nn.ReLU(inplace=True),\n",
    ")\n",
    "\n",
    "features_fc = nn.Sequential(\n",
    "        nn.Conv2d(3, 32, kernel_size=3, padding=1),\n",
    "        nn.ReLU(inplace=True),\n",
    "        nn.Linear(32, 32), ########################################### LINEAR\n",
    "        nn.ReLU(inplace=True),\n",
    "        nn.Conv2d(32, 256, kernel_size=3, padding=1),\n",
    "        nn.ReLU(inplace=True),\n",
    ")\n",
    "\n",
    "# print('\\n===\\nfeatures_fc:\\n===')\n",
    "# for k, v in features_fc.state_dict().items():\n",
    "#     print(\"Layer {}\".format(k))\n",
    "#     print(v.shape)\n",
    "\n",
    "\n",
    "def run_features_experiment(features, max_epochs=50, **kargs):\n",
    "    model = CNN(features=features, **kargs)\n",
    "    trainer = Trainer(\n",
    "        gpus=1,\n",
    "        num_nodes=1,\n",
    "        deterministic=True,\n",
    "        max_epochs=max_epochs,\n",
    "        logger=False,\n",
    "        progress_bar_refresh_rate=0,\n",
    "    )\n",
    "    trainer.fit(model)\n",
    "    return model"
   ]
  },
  {
   "cell_type": "code",
   "execution_count": 13,
   "metadata": {},
   "outputs": [
    {
     "name": "stderr",
     "output_type": "stream",
     "text": [
      "GPU available: True, used: True\n",
      "No environment variable for node rank defined. Set as 0.\n",
      "CUDA_VISIBLE_DEVICES: [0]\n",
      "\n",
      "   | Name         | Type              | Params\n",
      "-----------------------------------------------\n",
      "0  | features     | Sequential        | 75 K  \n",
      "1  | features.0   | Conv2d            | 896   \n",
      "2  | features.1   | ReLU              | 0     \n",
      "3  | features.2   | Conv2d            | 1 K   \n",
      "4  | features.3   | ReLU              | 0     \n",
      "5  | features.4   | Conv2d            | 73 K  \n",
      "6  | features.5   | ReLU              | 0     \n",
      "7  | avgpool      | AdaptiveAvgPool2d | 0     \n",
      "8  | classifier   | Sequential        | 13 M  \n",
      "9  | classifier.0 | Linear            | 12 M  \n",
      "10 | classifier.1 | ReLU              | 0     \n",
      "11 | classifier.2 | Dropout           | 0     \n",
      "12 | classifier.3 | Linear            | 1 M   \n",
      "13 | classifier.4 | ReLU              | 0     \n",
      "14 | classifier.5 | Dropout           | 0     \n",
      "15 | classifier.6 | Linear            | 10 K  \n",
      "16 | loss         | CrossEntropyLoss  | 0     \n"
     ]
    },
    {
     "name": "stdout",
     "output_type": "stream",
     "text": [
      "Files already downloaded and verified\n",
      "Files already downloaded and verified\n",
      "Files already downloaded and verified\n",
      "Files already downloaded and verified\n"
     ]
    }
   ],
   "source": [
    "model = run_features_experiment(features_conv_1x1, max_epochs = 1)\n",
    "\n",
    "preds_features_conv_1x1, _ = model.get_all_preds()"
   ]
  },
  {
   "cell_type": "markdown",
   "metadata": {},
   "source": [
    "> We are able to load our `state_dict` from the conv model into the FC model. From the `get_all_preds()` we can see that this model's neurons are able to fire without any issues"
   ]
  },
  {
   "cell_type": "code",
   "execution_count": 14,
   "metadata": {},
   "outputs": [
    {
     "name": "stdout",
     "output_type": "stream",
     "text": [
      "Files already downloaded and verified\n",
      "Files already downloaded and verified\n"
     ]
    }
   ],
   "source": [
    "from collections import OrderedDict\n",
    "\n",
    "new_state_dict = OrderedDict()\n",
    "\n",
    "for k, v in features_conv_1x1.state_dict().items():\n",
    "    new_state_dict[k] = torch.squeeze(v.clone().detach()).to(device)\n",
    "    \n",
    "features_fc.load_state_dict(new_state_dict)\n",
    "\n",
    "features_fc = features_fc.to(device)\n",
    "\n",
    "model.set_features(features_fc)\n",
    "preds_features_fc, tgt = model.get_all_preds()\n",
    "\n",
    "model.set_features(features_conv_1x1)\n",
    "pred_features_conv_1x1, tgt = model.get_all_preds()"
   ]
  },
  {
   "cell_type": "code",
   "execution_count": 15,
   "metadata": {},
   "outputs": [
    {
     "data": {
      "text/plain": [
       "tensor([[-0.1306,  0.0030,  0.1695,  ...,  0.2144,  0.2032,  0.0785],\n",
       "        [ 0.1617,  0.1247, -0.0907,  ...,  0.0280,  0.3434, -0.0691],\n",
       "        [ 0.0648, -0.0791,  0.0908,  ..., -0.1090,  0.0579, -0.1092],\n",
       "        ...,\n",
       "        [ 0.0592,  0.3555,  0.1133,  ...,  0.0289, -0.1226, -0.0317],\n",
       "        [ 0.1917,  0.0768, -0.2183,  ...,  0.1390,  0.2655,  0.1896],\n",
       "        [-0.2218, -0.2047, -0.0666,  ..., -0.1310, -0.0131, -0.1217]],\n",
       "       device='cuda:0')"
      ]
     },
     "execution_count": 15,
     "metadata": {},
     "output_type": "execute_result"
    }
   ],
   "source": [
    "features_fc.state_dict()['2.weight']"
   ]
  },
  {
   "cell_type": "code",
   "execution_count": 16,
   "metadata": {},
   "outputs": [
    {
     "data": {
      "text/plain": [
       "tensor([[-0.1306,  0.0030,  0.1695,  ...,  0.2144,  0.2032,  0.0785],\n",
       "        [ 0.1617,  0.1247, -0.0907,  ...,  0.0280,  0.3434, -0.0691],\n",
       "        [ 0.0648, -0.0791,  0.0908,  ..., -0.1090,  0.0579, -0.1092],\n",
       "        ...,\n",
       "        [ 0.0592,  0.3555,  0.1133,  ...,  0.0289, -0.1226, -0.0317],\n",
       "        [ 0.1917,  0.0768, -0.2183,  ...,  0.1390,  0.2655,  0.1896],\n",
       "        [-0.2218, -0.2047, -0.0666,  ..., -0.1310, -0.0131, -0.1217]],\n",
       "       device='cuda:0')"
      ]
     },
     "execution_count": 16,
     "metadata": {},
     "output_type": "execute_result"
    }
   ],
   "source": [
    "features_conv_1x1.state_dict()['2.weight'].reshape(32, 32)"
   ]
  },
  {
   "cell_type": "code",
   "execution_count": 17,
   "metadata": {},
   "outputs": [
    {
     "data": {
      "text/plain": [
       "tensor(0.4844, device='cuda:0')"
      ]
     },
     "execution_count": 17,
     "metadata": {},
     "output_type": "execute_result"
    }
   ],
   "source": [
    "torch.sum(preds_features_conv_1x1 == tgt) / (len(tgt) * 1.0)"
   ]
  },
  {
   "cell_type": "code",
   "execution_count": 18,
   "metadata": {},
   "outputs": [
    {
     "data": {
      "text/plain": [
       "tensor(0.1237, device='cuda:0')"
      ]
     },
     "execution_count": 18,
     "metadata": {},
     "output_type": "execute_result"
    }
   ],
   "source": [
    "torch.sum(preds_features_fc == tgt) / (len(tgt) * 1.0)"
   ]
  },
  {
   "cell_type": "markdown",
   "metadata": {},
   "source": [
    "```\n",
    "We see that we are able to load the convolution layer weights into the FC layer. Also we verify the neurons don't have any wiring issues by making predictions on both networks and getting different results.\n",
    "```"
   ]
  },
  {
   "cell_type": "code",
   "execution_count": null,
   "metadata": {},
   "outputs": [],
   "source": []
  }
 ],
 "metadata": {
  "kernelspec": {
   "display_name": "Python 3",
   "language": "python",
   "name": "python3"
  },
  "language_info": {
   "codemirror_mode": {
    "name": "ipython",
    "version": 3
   },
   "file_extension": ".py",
   "mimetype": "text/x-python",
   "name": "python",
   "nbconvert_exporter": "python",
   "pygments_lexer": "ipython3",
   "version": "3.8.3"
  }
 },
 "nbformat": 4,
 "nbformat_minor": 1
}
