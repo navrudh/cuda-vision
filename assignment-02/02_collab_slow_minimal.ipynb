{
 "cells": [
  {
   "cell_type": "markdown",
   "metadata": {},
   "source": [
    "## Colab Issue\n"
   ]
  },
  {
   "cell_type": "markdown",
   "metadata": {},
   "source": [
    "### Imports"
   ]
  },
  {
   "cell_type": "code",
   "execution_count": 1,
   "metadata": {
    "colab": {},
    "colab_type": "code",
    "id": "CkadPAddqfXs",
    "pycharm": {
     "name": "#%%\n"
    }
   },
   "outputs": [],
   "source": [
    "import random\n",
    "\n",
    "import numpy as np\n",
    "import torch\n",
    "from torch import nn\n",
    "from torch.utils.data import DataLoader\n",
    "from torchvision import transforms, datasets"
   ]
  },
  {
   "cell_type": "markdown",
   "metadata": {
    "colab_type": "text",
    "id": "b7DKVnPpqfXx",
    "pycharm": {
     "name": "#%% md\n"
    }
   },
   "source": [
    "### Environment Information"
   ]
  },
  {
   "cell_type": "code",
   "execution_count": 2,
   "metadata": {
    "colab": {
     "base_uri": "https://localhost:8080/",
     "height": 85
    },
    "colab_type": "code",
    "id": "Jb53pnAoqfXy",
    "outputId": "b7ca97ca-13a4-4474-8133-3ee3104d4c7a",
    "pycharm": {
     "name": "#%%\n"
    }
   },
   "outputs": [
    {
     "name": "stdout",
     "output_type": "stream",
     "text": [
      "Device: cuda:0\n",
      "Device Name: GeForce GTX 1660 Ti\n",
      "Data Dir: ~/.datasets\n",
      "Set Random Seed: 42\n"
     ]
    }
   ],
   "source": [
    "def random_seed(seed_value, use_cuda):\n",
    "    np.random.seed(seed_value) # cpu vars\n",
    "    torch.manual_seed(seed_value) # cpu  vars\n",
    "    random.seed(seed_value) # Python\n",
    "    if use_cuda: \n",
    "        torch.cuda.manual_seed(seed_value)\n",
    "        torch.cuda.manual_seed_all(seed_value) # gpu vars\n",
    "        torch.backends.cudnn.deterministic = True  #needed\n",
    "        torch.backends.cudnn.benchmark = False\n",
    "\n",
    "\n",
    "device = torch.device(\"cuda:0\" if torch.cuda.is_available() else \"cpu\")\n",
    "data_dir = \"~/.datasets\"\n",
    "seed = 42\n",
    "\n",
    "random_seed(seed, torch.cuda.is_available())\n",
    "\n",
    "print(\"Device:\", device)\n",
    "if torch.cuda.is_available():\n",
    "  print(\"Device Name:\", torch.cuda.get_device_name(0))\n",
    "print(\"Data Dir:\", data_dir)\n",
    "print(\"Set Random Seed:\", seed)"
   ]
  },
  {
   "cell_type": "markdown",
   "metadata": {
    "colab_type": "text",
    "id": "VeZekfzJqfX4",
    "pycharm": {
     "name": "#%% md\n"
    }
   },
   "source": [
    "### Class to load the CIFAR10 dataset"
   ]
  },
  {
   "cell_type": "code",
   "execution_count": 3,
   "metadata": {
    "colab": {},
    "colab_type": "code",
    "id": "gR3s5c9VqfX5",
    "pycharm": {
     "name": "#%%\n"
    }
   },
   "outputs": [],
   "source": [
    "class CIFAR10Data:\n",
    "    def __init__(self):\n",
    "        transform = transforms.Compose(\n",
    "            [\n",
    "                transforms.ToTensor(),\n",
    "                transforms.Normalize((0.5, 0.5, 0.5), (0.5, 0.5, 0.5)),\n",
    "            ]\n",
    "        )\n",
    "\n",
    "        self.trainset = datasets.CIFAR10(\n",
    "            root=data_dir, train=True, download=True, transform=transform\n",
    "        )\n",
    "        self.testset = datasets.CIFAR10(\n",
    "            root=data_dir, train=False, download=True, transform=transform\n",
    "        )\n",
    "\n",
    "        self.classes = (\n",
    "            \"plane\",\n",
    "            \"car\",\n",
    "            \"bird\",\n",
    "            \"cat\",\n",
    "            \"deer\",\n",
    "            \"dog\",\n",
    "            \"frog\",\n",
    "            \"horse\",\n",
    "            \"ship\",\n",
    "            \"truck\",\n",
    "        )\n",
    "\n",
    "    def get_cifar10_data(self):\n",
    "        return self.trainset, self.testset, self.classes\n",
    "\n",
    "    def get_cifar10_batch_loaders(self, batch_size=64):\n",
    "\n",
    "        train_dataloader = DataLoader(\n",
    "            self.trainset,\n",
    "            shuffle=True,\n",
    "            batch_size=batch_size,\n",
    "            drop_last=True,\n",
    "            num_workers=4,\n",
    "        )\n",
    "        test_dataloader = DataLoader(\n",
    "            self.testset,\n",
    "            shuffle=False,\n",
    "            batch_size=batch_size,\n",
    "            drop_last=True,\n",
    "            num_workers=4,\n",
    "        )\n",
    "\n",
    "        return train_dataloader, test_dataloader\n"
   ]
  },
  {
   "cell_type": "markdown",
   "metadata": {
    "colab_type": "text",
    "id": "aHj3cJIAqfX8",
    "pycharm": {
     "name": "#%% md\n"
    }
   },
   "source": [
    "### The Trainer Class"
   ]
  },
  {
   "cell_type": "code",
   "execution_count": 4,
   "metadata": {
    "colab": {},
    "colab_type": "code",
    "id": "XmBRslPxqfX9",
    "pycharm": {
     "name": "#%%\n"
    }
   },
   "outputs": [],
   "source": [
    "class Trainer(object):\n",
    "    \"\"\"\n",
    "    The Trainer class,\n",
    "    which makes use of Torch's Module, Loss, Optimizer implementations\n",
    "    \"\"\"\n",
    "\n",
    "    def __init__(\n",
    "        self,\n",
    "        model: nn.Module,\n",
    "        loss: nn.modules.loss._Loss,\n",
    "        optimizer: torch.optim.Optimizer,\n",
    "    ):\n",
    "        self._model = model\n",
    "        self._loss = loss\n",
    "        self._optimizer = optimizer\n",
    "\n",
    "    def __str__(self):\n",
    "        return f\"\"\"Trainer:\\nArch:\\n{self._model}\\nLoss: {self._loss}\\nOptimizer: {self._optimizer}\"\"\"\n",
    "\n",
    "    def predict_classes(self, dataloader, retLabels=False):\n",
    "        predY: [int] = []\n",
    "        actualY: [int] = []\n",
    "        for X, Y in dataloader:\n",
    "            X, Y = X.to(device), Y\n",
    "            X = X.reshape(dataloader.batch_size, -1).to(device)\n",
    "            class_probabilities = self._model(X)\n",
    "            class_predictions = torch.argmax(class_probabilities, dim=1)\n",
    "            predY.extend(class_predictions.tolist())\n",
    "            actualY.extend(Y.tolist())\n",
    "        if retLabels:\n",
    "            return predY, actualY\n",
    "        else:\n",
    "            return predY\n",
    "\n",
    "    def fit(\n",
    "        self,\n",
    "        train_dataloader: torch.utils.data.DataLoader,\n",
    "        test_dataloader: torch.utils.data.DataLoader,\n",
    "        epochs=100,\n",
    "        track_metrics=True,\n",
    "        log=True,\n",
    "        log_interval=10,\n",
    "    ):\n",
    "        train_losses = []\n",
    "        test_losses = []\n",
    "        train_accs = []\n",
    "        test_accs = []\n",
    "\n",
    "        for epoch in range(1, epochs + 1):\n",
    "            self._model.train()\n",
    "            train_loss = 0.0\n",
    "            train_acc = 0.0\n",
    "            for batch_id, (X, Y) in enumerate(train_dataloader):\n",
    "                X, Y = X.to(device), Y.to(device)\n",
    "                X = X.view(train_dataloader.batch_size, -1).to(device)\n",
    "                self._optimizer.zero_grad()\n",
    "                class_probabilities = self._model(X)\n",
    "                loss = self._loss(class_probabilities, Y)\n",
    "\n",
    "                if track_metrics:\n",
    "                    train_loss += loss.item()\n",
    "                    class_prediction = torch.argmax(class_probabilities, dim=1)\n",
    "                    train_acc += (class_prediction == Y.data).sum().item()\n",
    "\n",
    "                loss.backward()\n",
    "\n",
    "                self._optimizer.step()\n",
    "\n",
    "            if track_metrics:\n",
    "                train_losses.append(train_loss)\n",
    "                train_acc /= len(train_dataloader.dataset)\n",
    "                train_accs.append(train_acc)\n",
    "\n",
    "            test_loss, test_acc = self.validation(test_dataloader)\n",
    "            test_accs.append(test_acc)\n",
    "            if log and epoch % log_interval == 0:\n",
    "                test_losses.append(test_loss)\n",
    "                print(\n",
    "                    \"Epoch: {}\\tTraining Loss: {:.4f}\\tTraining Acc: {:.4f}\\tTest Acc: {:.4f}\\t\".format(\n",
    "                        epoch, train_loss, train_acc, test_acc\n",
    "                    )\n",
    "                )\n",
    "\n",
    "        return train_accs, test_accs\n",
    "\n",
    "    def validation(self, testloader):\n",
    "        test_loss = 0\n",
    "        accuracy = 0\n",
    "\n",
    "        for testX, testY in testloader:\n",
    "            testX, testY = testX.to(device), testY.to(device)\n",
    "            testX = testX.reshape(testloader.batch_size, -1).to(device)\n",
    "\n",
    "            predictions = self._model(testX)\n",
    "            test_loss += self._loss(predictions, testY).item()\n",
    "\n",
    "            argmax = torch.argmax(predictions, dim=1)\n",
    "            accuracy += (argmax == testY.data).sum().item()\n",
    "\n",
    "        return test_loss, accuracy / len(testloader.dataset)"
   ]
  },
  {
   "cell_type": "markdown",
   "metadata": {
    "colab_type": "text",
    "id": "abTkCbNtqfYA",
    "pycharm": {
     "name": "#%% md\n"
    }
   },
   "source": [
    "### Initialize the Trainer class with a Model, Loss Function and Optimizer"
   ]
  },
  {
   "cell_type": "code",
   "execution_count": 5,
   "metadata": {
    "colab": {
     "base_uri": "https://localhost:8080/",
     "height": 100,
     "referenced_widgets": [
      "4acc450aa7114bc8ae1390d1f557bed2",
      "86fcb7daab6b4f15a953b7b75a32b68e",
      "6fc3288c59004762b0bf5e766b954e1b",
      "1b800caacd654e3aaa1921199fa036c6",
      "6adec470e27d4ca2aeae8dcb14848ec3",
      "030d70bbfb0945c2a25bd52a208555e0",
      "3b53bbde6a7a4fa8984401d0c572b291",
      "01e607c8fbc84d84b75cd2513e185ecb"
     ]
    },
    "colab_type": "code",
    "id": "WHmqXJQWqfYA",
    "outputId": "2540b37d-1429-45c8-8f39-113658ac5d08",
    "pycharm": {
     "name": "#%%\n"
    }
   },
   "outputs": [
    {
     "name": "stdout",
     "output_type": "stream",
     "text": [
      "Files already downloaded and verified\n",
      "Files already downloaded and verified\n"
     ]
    }
   ],
   "source": [
    "cifar10_data = CIFAR10Data()\n",
    "\n",
    "\n",
    "def run_model_trainer(learning_rate, batch_size, print_trainer_info=False, **kwargs):\n",
    "\n",
    "    _model = nn.Sequential(\n",
    "        nn.Linear(1024 * 3, 128),\n",
    "        nn.ReLU(),\n",
    "        nn.Linear(128, 64),\n",
    "        nn.ReLU(),\n",
    "        nn.Linear(64, 10),\n",
    "        nn.Softmax(-1),\n",
    "    )\n",
    "\n",
    "    _trainer = Trainer(\n",
    "        model=_model.to(device),\n",
    "        loss=nn.CrossEntropyLoss(),\n",
    "        optimizer=torch.optim.SGD(_model.parameters(), lr=learning_rate, momentum=0.9),\n",
    "    )\n",
    "\n",
    "    if print_trainer_info:\n",
    "        print(_trainer)\n",
    "\n",
    "    _train_dataloader, _test_dataloader = cifar10_data.get_cifar10_batch_loaders(\n",
    "        batch_size=batch_size\n",
    "    )\n",
    "\n",
    "    _train_accs, _test_accs = _trainer.fit(\n",
    "        _train_dataloader, _test_dataloader, **kwargs\n",
    "    )\n",
    "\n",
    "    return _trainer, (_train_dataloader, _test_dataloader), (_train_accs, _test_accs)"
   ]
  },
  {
   "cell_type": "markdown",
   "metadata": {
    "colab_type": "text",
    "id": "tBX8UUYGqfYE",
    "pycharm": {
     "name": "#%% md\n"
    }
   },
   "source": [
    "### Train the model on CIFAR10 and plot graphs"
   ]
  },
  {
   "cell_type": "code",
   "execution_count": 6,
   "metadata": {
    "colab": {
     "base_uri": "https://localhost:8080/",
     "height": 1000
    },
    "colab_type": "code",
    "id": "B-3JCOFdqfYE",
    "outputId": "bcb75440-cb1a-433e-fc3f-dc033932e97f",
    "pycharm": {
     "name": "#%%\n"
    },
    "scrolled": false
   },
   "outputs": [
    {
     "name": "stdout",
     "output_type": "stream",
     "text": [
      "Trainer:\n",
      "Arch:\n",
      "Sequential(\n",
      "  (0): Linear(in_features=3072, out_features=128, bias=True)\n",
      "  (1): ReLU()\n",
      "  (2): Linear(in_features=128, out_features=64, bias=True)\n",
      "  (3): ReLU()\n",
      "  (4): Linear(in_features=64, out_features=10, bias=True)\n",
      "  (5): Softmax(dim=-1)\n",
      ")\n",
      "Loss: CrossEntropyLoss()\n",
      "Optimizer: SGD (\n",
      "Parameter Group 0\n",
      "    dampening: 0\n",
      "    lr: 0.001\n",
      "    momentum: 0.9\n",
      "    nesterov: False\n",
      "    weight_decay: 0\n",
      ")\n",
      "Epoch: 1\tTraining Loss: 1796.3746\tTraining Acc: 0.1534\tTest Acc: 0.1856\t\n",
      "Epoch: 2\tTraining Loss: 1790.5119\tTraining Acc: 0.1992\tTest Acc: 0.1910\t\n",
      "Epoch: 3\tTraining Loss: 1775.8906\tTraining Acc: 0.1806\tTest Acc: 0.1724\t\n",
      "Epoch: 4\tTraining Loss: 1753.6627\tTraining Acc: 0.1951\tTest Acc: 0.2149\t\n",
      "Epoch: 5\tTraining Loss: 1733.7086\tTraining Acc: 0.2369\tTest Acc: 0.2633\t\n",
      "CPU times: user 14.1 s, sys: 2.35 s, total: 16.5 s\n",
      "Wall time: 19.4 s\n"
     ]
    }
   ],
   "source": [
    "%%time\n",
    "\n",
    "trainer, (train_dataloader, test_dataloader), _ = run_model_trainer(\n",
    "    batch_size=64,\n",
    "    learning_rate=1e-3,\n",
    "    print_trainer_info=True,\n",
    "    epochs=5,\n",
    "    log_interval=1\n",
    ")"
   ]
  }
 ],
 "metadata": {
  "accelerator": "GPU",
  "colab": {
   "collapsed_sections": [],
   "name": "02-logistic-regression-pytorch.ipynb",
   "provenance": []
  },
  "kernelspec": {
   "display_name": "Python 3",
   "language": "python",
   "name": "python3"
  },
  "language_info": {
   "codemirror_mode": {
    "name": "ipython",
    "version": 3
   },
   "file_extension": ".py",
   "mimetype": "text/x-python",
   "name": "python",
   "nbconvert_exporter": "python",
   "pygments_lexer": "ipython3",
   "version": "3.8.3"
  },
  "widgets": {
   "application/vnd.jupyter.widget-state+json": {
    "01e607c8fbc84d84b75cd2513e185ecb": {
     "model_module": "@jupyter-widgets/base",
     "model_name": "LayoutModel",
     "state": {
      "_model_module": "@jupyter-widgets/base",
      "_model_module_version": "1.2.0",
      "_model_name": "LayoutModel",
      "_view_count": null,
      "_view_module": "@jupyter-widgets/base",
      "_view_module_version": "1.2.0",
      "_view_name": "LayoutView",
      "align_content": null,
      "align_items": null,
      "align_self": null,
      "border": null,
      "bottom": null,
      "display": null,
      "flex": null,
      "flex_flow": null,
      "grid_area": null,
      "grid_auto_columns": null,
      "grid_auto_flow": null,
      "grid_auto_rows": null,
      "grid_column": null,
      "grid_gap": null,
      "grid_row": null,
      "grid_template_areas": null,
      "grid_template_columns": null,
      "grid_template_rows": null,
      "height": null,
      "justify_content": null,
      "justify_items": null,
      "left": null,
      "margin": null,
      "max_height": null,
      "max_width": null,
      "min_height": null,
      "min_width": null,
      "object_fit": null,
      "object_position": null,
      "order": null,
      "overflow": null,
      "overflow_x": null,
      "overflow_y": null,
      "padding": null,
      "right": null,
      "top": null,
      "visibility": null,
      "width": null
     }
    },
    "030d70bbfb0945c2a25bd52a208555e0": {
     "model_module": "@jupyter-widgets/base",
     "model_name": "LayoutModel",
     "state": {
      "_model_module": "@jupyter-widgets/base",
      "_model_module_version": "1.2.0",
      "_model_name": "LayoutModel",
      "_view_count": null,
      "_view_module": "@jupyter-widgets/base",
      "_view_module_version": "1.2.0",
      "_view_name": "LayoutView",
      "align_content": null,
      "align_items": null,
      "align_self": null,
      "border": null,
      "bottom": null,
      "display": null,
      "flex": null,
      "flex_flow": null,
      "grid_area": null,
      "grid_auto_columns": null,
      "grid_auto_flow": null,
      "grid_auto_rows": null,
      "grid_column": null,
      "grid_gap": null,
      "grid_row": null,
      "grid_template_areas": null,
      "grid_template_columns": null,
      "grid_template_rows": null,
      "height": null,
      "justify_content": null,
      "justify_items": null,
      "left": null,
      "margin": null,
      "max_height": null,
      "max_width": null,
      "min_height": null,
      "min_width": null,
      "object_fit": null,
      "object_position": null,
      "order": null,
      "overflow": null,
      "overflow_x": null,
      "overflow_y": null,
      "padding": null,
      "right": null,
      "top": null,
      "visibility": null,
      "width": null
     }
    },
    "1b800caacd654e3aaa1921199fa036c6": {
     "model_module": "@jupyter-widgets/controls",
     "model_name": "HTMLModel",
     "state": {
      "_dom_classes": [],
      "_model_module": "@jupyter-widgets/controls",
      "_model_module_version": "1.5.0",
      "_model_name": "HTMLModel",
      "_view_count": null,
      "_view_module": "@jupyter-widgets/controls",
      "_view_module_version": "1.5.0",
      "_view_name": "HTMLView",
      "description": "",
      "description_tooltip": null,
      "layout": "IPY_MODEL_01e607c8fbc84d84b75cd2513e185ecb",
      "placeholder": "​",
      "style": "IPY_MODEL_3b53bbde6a7a4fa8984401d0c572b291",
      "value": " 170500096/? [00:20&lt;00:00, 53678703.62it/s]"
     }
    },
    "3b53bbde6a7a4fa8984401d0c572b291": {
     "model_module": "@jupyter-widgets/controls",
     "model_name": "DescriptionStyleModel",
     "state": {
      "_model_module": "@jupyter-widgets/controls",
      "_model_module_version": "1.5.0",
      "_model_name": "DescriptionStyleModel",
      "_view_count": null,
      "_view_module": "@jupyter-widgets/base",
      "_view_module_version": "1.2.0",
      "_view_name": "StyleView",
      "description_width": ""
     }
    },
    "4acc450aa7114bc8ae1390d1f557bed2": {
     "model_module": "@jupyter-widgets/controls",
     "model_name": "HBoxModel",
     "state": {
      "_dom_classes": [],
      "_model_module": "@jupyter-widgets/controls",
      "_model_module_version": "1.5.0",
      "_model_name": "HBoxModel",
      "_view_count": null,
      "_view_module": "@jupyter-widgets/controls",
      "_view_module_version": "1.5.0",
      "_view_name": "HBoxView",
      "box_style": "",
      "children": [
       "IPY_MODEL_6fc3288c59004762b0bf5e766b954e1b",
       "IPY_MODEL_1b800caacd654e3aaa1921199fa036c6"
      ],
      "layout": "IPY_MODEL_86fcb7daab6b4f15a953b7b75a32b68e"
     }
    },
    "6adec470e27d4ca2aeae8dcb14848ec3": {
     "model_module": "@jupyter-widgets/controls",
     "model_name": "ProgressStyleModel",
     "state": {
      "_model_module": "@jupyter-widgets/controls",
      "_model_module_version": "1.5.0",
      "_model_name": "ProgressStyleModel",
      "_view_count": null,
      "_view_module": "@jupyter-widgets/base",
      "_view_module_version": "1.2.0",
      "_view_name": "StyleView",
      "bar_color": null,
      "description_width": "initial"
     }
    },
    "6fc3288c59004762b0bf5e766b954e1b": {
     "model_module": "@jupyter-widgets/controls",
     "model_name": "FloatProgressModel",
     "state": {
      "_dom_classes": [],
      "_model_module": "@jupyter-widgets/controls",
      "_model_module_version": "1.5.0",
      "_model_name": "FloatProgressModel",
      "_view_count": null,
      "_view_module": "@jupyter-widgets/controls",
      "_view_module_version": "1.5.0",
      "_view_name": "ProgressView",
      "bar_style": "info",
      "description": "",
      "description_tooltip": null,
      "layout": "IPY_MODEL_030d70bbfb0945c2a25bd52a208555e0",
      "max": 1,
      "min": 0,
      "orientation": "horizontal",
      "style": "IPY_MODEL_6adec470e27d4ca2aeae8dcb14848ec3",
      "value": 1
     }
    },
    "86fcb7daab6b4f15a953b7b75a32b68e": {
     "model_module": "@jupyter-widgets/base",
     "model_name": "LayoutModel",
     "state": {
      "_model_module": "@jupyter-widgets/base",
      "_model_module_version": "1.2.0",
      "_model_name": "LayoutModel",
      "_view_count": null,
      "_view_module": "@jupyter-widgets/base",
      "_view_module_version": "1.2.0",
      "_view_name": "LayoutView",
      "align_content": null,
      "align_items": null,
      "align_self": null,
      "border": null,
      "bottom": null,
      "display": null,
      "flex": null,
      "flex_flow": null,
      "grid_area": null,
      "grid_auto_columns": null,
      "grid_auto_flow": null,
      "grid_auto_rows": null,
      "grid_column": null,
      "grid_gap": null,
      "grid_row": null,
      "grid_template_areas": null,
      "grid_template_columns": null,
      "grid_template_rows": null,
      "height": null,
      "justify_content": null,
      "justify_items": null,
      "left": null,
      "margin": null,
      "max_height": null,
      "max_width": null,
      "min_height": null,
      "min_width": null,
      "object_fit": null,
      "object_position": null,
      "order": null,
      "overflow": null,
      "overflow_x": null,
      "overflow_y": null,
      "padding": null,
      "right": null,
      "top": null,
      "visibility": null,
      "width": null
     }
    }
   }
  }
 },
 "nbformat": 4,
 "nbformat_minor": 1
}
